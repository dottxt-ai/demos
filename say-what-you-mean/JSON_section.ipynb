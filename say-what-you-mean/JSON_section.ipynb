{
 "cells": [
  {
   "cell_type": "markdown",
   "id": "6f54f9d7-0f84-456a-af6f-6dc9eb88cbfd",
   "metadata": {},
   "source": [
    "# JSON Section\n",
    "\n",
    "These notes are from the section of *Say What You Mean* entitled \"What About JSON?\" additionally this is where the JSON-mode results of \"Last Letter\" come from.\n",
    "\n",
    "This section compares \"JSON-mode\" evaluation on the *Last Letter* task for both structured and unstrutured generation."
   ]
  },
  {
   "cell_type": "code",
   "execution_count": 1,
   "id": "1598f3e9-889d-4dc9-9e10-bb98b3783a4d",
   "metadata": {
    "execution": {
     "iopub.execute_input": "2024-11-19T22:29:44.364608Z",
     "iopub.status.busy": "2024-11-19T22:29:44.364386Z",
     "iopub.status.idle": "2024-11-19T22:29:50.046238Z",
     "shell.execute_reply": "2024-11-19T22:29:50.045885Z",
     "shell.execute_reply.started": "2024-11-19T22:29:44.364587Z"
    }
   },
   "outputs": [],
   "source": [
    "import json\n",
    "import outlines\n",
    "import torch\n",
    "from transformers import AutoTokenizer\n",
    "from textwrap import dedent\n",
    "from datasets import load_dataset\n",
    "import re\n",
    "from jinja2 import Environment, FileSystemLoader\n",
    "import yaml\n",
    "import numpy as np\n",
    "import matplotlib.pyplot as plt\n",
    "from outlines.samplers import greedy\n",
    "\n",
    "MODEL_NAME = \"meta-llama/Meta-Llama-3-8B-Instruct\"\n",
    "# Load the dataset from HuggingFace\n",
    "dataset = load_dataset(\"ChilleD/LastLetterConcat\")"
   ]
  },
  {
   "cell_type": "code",
   "execution_count": 2,
   "id": "91f9adf8-17df-44b0-a1a9-249568b24c34",
   "metadata": {
    "execution": {
     "iopub.execute_input": "2024-11-19T22:29:50.046782Z",
     "iopub.status.busy": "2024-11-19T22:29:50.046646Z",
     "iopub.status.idle": "2024-11-19T22:29:50.050953Z",
     "shell.execute_reply": "2024-11-19T22:29:50.050543Z",
     "shell.execute_reply.started": "2024-11-19T22:29:50.046772Z"
    }
   },
   "outputs": [],
   "source": [
    "with open(f\"/Users/willkurt/code/speak_freely_log_analysis/logging/lastletter-t2-structure/struct_llama-3-8b-instruct_shots_0.jsonl\", 'r') as f:\n",
    "    recorded_data = [json.loads(raw_obj) for raw_obj in f.readlines()]"
   ]
  },
  {
   "cell_type": "code",
   "execution_count": 3,
   "id": "5408ba76-d736-4c3c-af6c-aa17d9dc8739",
   "metadata": {
    "execution": {
     "iopub.execute_input": "2024-11-19T22:29:50.051658Z",
     "iopub.status.busy": "2024-11-19T22:29:50.051567Z",
     "iopub.status.idle": "2024-11-19T22:29:50.055847Z",
     "shell.execute_reply": "2024-11-19T22:29:50.055602Z",
     "shell.execute_reply.started": "2024-11-19T22:29:50.051649Z"
    }
   },
   "outputs": [
    {
     "name": "stdout",
     "output_type": "stream",
     "text": [
      "Total examples: 150\n",
      "Sample entry: {'question': 'Take the last letters of each words in \"Camilo Becky Eliza Rebecca\" and concatenate them.', 'answer': 'oyaa'}\n"
     ]
    }
   ],
   "source": [
    "all_evals = []\n",
    "\n",
    "\n",
    "# Uncomment to run on full set of evals.\n",
    "# Add training examples\n",
    "# realized they don't actually use these.\n",
    "# for item in dataset['train']:\n",
    "#     all_evals.append({\n",
    "#         'question': item['question'],\n",
    "#         'answer': item['answer']\n",
    "#     })\n",
    "\n",
    "# Add test examples\n",
    "for item in dataset['test']:\n",
    "    all_evals.append({\n",
    "        'question': item['question'],\n",
    "        'answer': item['answer']\n",
    "    })\n",
    "\n",
    "print(f\"Total examples: {len(all_evals)}\")\n",
    "print(\"Sample entry:\", all_evals[0])"
   ]
  },
  {
   "cell_type": "code",
   "execution_count": 4,
   "id": "7ffacd59-44e4-4505-87f3-816f544f14ad",
   "metadata": {
    "execution": {
     "iopub.execute_input": "2024-11-19T22:29:50.056238Z",
     "iopub.status.busy": "2024-11-19T22:29:50.056154Z",
     "iopub.status.idle": "2024-11-19T22:29:55.179949Z",
     "shell.execute_reply": "2024-11-19T22:29:55.179604Z",
     "shell.execute_reply.started": "2024-11-19T22:29:50.056229Z"
    }
   },
   "outputs": [
    {
     "data": {
      "application/vnd.jupyter.widget-view+json": {
       "model_id": "0923a22f5a25483893b23e46d5339d4a",
       "version_major": 2,
       "version_minor": 0
      },
      "text/plain": [
       "Loading checkpoint shards:   0%|          | 0/4 [00:00<?, ?it/s]"
      ]
     },
     "metadata": {},
     "output_type": "display_data"
    }
   ],
   "source": [
    "model = outlines.models.transformers(\n",
    "    MODEL_NAME,\n",
    "    device='mps',\n",
    "    model_kwargs={\n",
    "        'torch_dtype': torch.bfloat16,\n",
    "        'trust_remote_code': True\n",
    "    })\n",
    "\n",
    "tokenizer = AutoTokenizer.from_pretrained(MODEL_NAME)"
   ]
  },
  {
   "cell_type": "code",
   "execution_count": 5,
   "id": "7139aa96-08c1-4d9a-9f4c-1d1f77b0af5d",
   "metadata": {
    "execution": {
     "iopub.execute_input": "2024-11-19T22:29:55.180668Z",
     "iopub.status.busy": "2024-11-19T22:29:55.180486Z",
     "iopub.status.idle": "2024-11-19T22:29:55.186162Z",
     "shell.execute_reply": "2024-11-19T22:29:55.185894Z",
     "shell.execute_reply.started": "2024-11-19T22:29:55.180658Z"
    }
   },
   "outputs": [
    {
     "name": "stdout",
     "output_type": "stream",
     "text": [
      "<|begin_of_text|><|start_header_id|>system<|end_header_id|>\n",
      "\n",
      "You are an expert in solving simple word puzzles using reasoning steps. Your specific\n",
      "task is going to be to take a list of 4 names and reason about the last letter of each .,\n",
      "then you will concatenate those letters into a word. The Question will be plaintest from the user\n",
      "and response will be formatted as JSON below:\n",
      "\n",
      "{\"reasoning\": <reasoning about the answer>, \"answer\": <final answer>}<|eot_id|><|start_header_id|>user<|end_header_id|>\n",
      "\n",
      "Question: Take the last letters of each words in 'Ian Peter Bernard Stephen' and concatenate them.<|eot_id|><|start_header_id|>assistant<|end_header_id|>\n",
      "\n",
      "{\"reasoning\": \"The last letter of 'Ian' is 'N', the last letter of 'Peter' is 'R', the last letter of 'Bernard' is 'D', and the last letter of 'Stephen' is 'N'. Therefore, the answer is 'NRDN'.\", \"answer\": \"NRDN\"}<|eot_id|><|start_header_id|>user<|end_header_id|>\n",
      "\n",
      "Question: Take the last letters of each words in \"Britt Tamara Elvis Nayeli\" and concatenate them.\",<|eot_id|><|start_header_id|>assistant<|end_header_id|>\n",
      "\n",
      "<|eot_id|>\n"
     ]
    }
   ],
   "source": [
    "def create_prompt(question, tokenizer):\n",
    "    messages = [\n",
    "        {\n",
    "            \"role\": \"system\",\n",
    "            \"content\": dedent(\"\"\"\n",
    "            You are an expert in solving simple word puzzles using reasoning steps. Your specific\n",
    "            task is going to be to take a list of 4 names and reason about the last letter of each .,\n",
    "            then you will concatenate those letters into a word. The Question will be plaintest from the user\n",
    "            and response will be formatted as JSON below:\n",
    "            \n",
    "            {\"reasoning\": <reasoning about the answer>, \"answer\": <final answer>}\n",
    "            \"\"\")\n",
    "        },\n",
    "        {\n",
    "            \"role\": \"user\",\n",
    "            \"content\": \"\"\"Question: {question}\"\"\".format(question=\"Take the last letters of each words in 'Ian Peter Bernard Stephen' and concatenate them.\")\n",
    "        },\n",
    "        {\n",
    "            \"role\": \"assistant\",\n",
    "            \"content\": \"\"\"{\"reasoning\": \"The last letter of 'Ian' is 'N', the last letter of 'Peter' is 'R', the last letter of 'Bernard' is 'D', and the last letter of 'Stephen' is 'N'. Therefore, the answer is 'NRDN'.\", \"answer\": \"NRDN\"}\"\"\"   \n",
    "        },\n",
    "        {\n",
    "            \"role\": \"user\",\n",
    "            \"content\": \"\"\"Question: {question}\", \"\"\".format(question=question)\n",
    "        },\n",
    "        {\n",
    "            \"role\": \"assistant\",\n",
    "            \"content\": \"\"\n",
    "        }\n",
    "    ]\n",
    "    return tokenizer.apply_chat_template(messages, tokenize=False)\n",
    "\n",
    "print(create_prompt(all_evals[5]['question'], tokenizer))"
   ]
  },
  {
   "cell_type": "markdown",
   "id": "4bb9bcdc-29d7-4742-8ded-c5f64e725a3b",
   "metadata": {},
   "source": [
    "### Unstructured Generation"
   ]
  },
  {
   "cell_type": "code",
   "execution_count": 6,
   "id": "0b4e3905-f13f-4818-957e-643e74038aeb",
   "metadata": {
    "execution": {
     "iopub.execute_input": "2024-11-19T22:29:55.187771Z",
     "iopub.status.busy": "2024-11-19T22:29:55.187667Z",
     "iopub.status.idle": "2024-11-19T22:29:55.189522Z",
     "shell.execute_reply": "2024-11-19T22:29:55.189295Z",
     "shell.execute_reply.started": "2024-11-19T22:29:55.187762Z"
    }
   },
   "outputs": [],
   "source": [
    "LAST = len(all_evals)\n",
    "answers = [ex_eval['answer'] for ex_eval in all_evals[0:LAST]]\n",
    "answer_regex = r'\"answer\":[ ]?\"([A-Za-z]{4})\"'"
   ]
  },
  {
   "cell_type": "code",
   "execution_count": 7,
   "id": "ca8461c3-1d51-4d49-ae2e-185b9791f50d",
   "metadata": {
    "execution": {
     "iopub.execute_input": "2024-11-19T22:29:55.189946Z",
     "iopub.status.busy": "2024-11-19T22:29:55.189871Z",
     "iopub.status.idle": "2024-11-19T22:29:55.191595Z",
     "shell.execute_reply": "2024-11-19T22:29:55.191326Z",
     "shell.execute_reply.started": "2024-11-19T22:29:55.189937Z"
    }
   },
   "outputs": [],
   "source": [
    "unstruct = outlines.generate.text(model, sampler=greedy())"
   ]
  },
  {
   "cell_type": "code",
   "execution_count": 8,
   "id": "ebb5c14c-ffb7-4b84-b75e-1cf25a8d113d",
   "metadata": {
    "execution": {
     "iopub.execute_input": "2024-11-19T22:29:55.192038Z",
     "iopub.status.busy": "2024-11-19T22:29:55.191962Z",
     "iopub.status.idle": "2024-11-19T22:46:01.295695Z",
     "shell.execute_reply": "2024-11-19T22:46:01.295044Z",
     "shell.execute_reply.started": "2024-11-19T22:29:55.192030Z"
    }
   },
   "outputs": [
    {
     "name": "stderr",
     "output_type": "stream",
     "text": [
      "/Users/willkurt/miniconda3/envs/dottxt-ai/lib/python3.10/site-packages/transformers/generation/configuration_utils.py:590: UserWarning: `do_sample` is set to `False`. However, `temperature` is set to `0.0` -- this flag is only used in sample-based generation modes. You should set `do_sample=True` or unset `temperature`. This was detected when initializing the generation config instance, which means the corresponding file may hold incorrect parameterization and should be fixed.\n",
      "  warnings.warn(\n",
      "/Users/willkurt/miniconda3/envs/dottxt-ai/lib/python3.10/site-packages/transformers/generation/configuration_utils.py:590: UserWarning: `do_sample` is set to `False`. However, `temperature` is set to `0.0` -- this flag is only used in sample-based generation modes. You should set `do_sample=True` or unset `temperature`.\n",
      "  warnings.warn(\n"
     ]
    }
   ],
   "source": [
    "unstruct_resp = [unstruct(create_prompt(all_evals[i]['question'], tokenizer), max_tokens=128) for i in range(LAST)]"
   ]
  },
  {
   "cell_type": "code",
   "execution_count": 9,
   "id": "c9703fe7-c13f-41f4-88f7-d163b6b3d10e",
   "metadata": {
    "execution": {
     "iopub.execute_input": "2024-11-19T22:46:01.296392Z",
     "iopub.status.busy": "2024-11-19T22:46:01.296266Z",
     "iopub.status.idle": "2024-11-19T22:46:01.300213Z",
     "shell.execute_reply": "2024-11-19T22:46:01.299901Z",
     "shell.execute_reply.started": "2024-11-19T22:46:01.296380Z"
    }
   },
   "outputs": [
    {
     "data": {
      "text/plain": [
       "['assistant\\n\\n{\"reasoning\": \"The last letter of \\'Camilo\\' is \\'O\\', the last letter of \\'Becky\\' is \\'Y\\', the last letter of \\'Eliza\\' is \\'A\\', and the last letter of \\'Rebecca\\' is \\'A\\'. Therefore, the answer is \\'OYAA\\'.\", \"answer\": \"OYAA\"}',\n",
       " 'assistant\\n\\n{\"reasoning\": \"The last letter of \\'Sandeep\\' is \\'P\\', the last letter of \\'Graciela\\' is \\'A\\', the last letter of \\'Jai\\' is \\'I\\', and the last letter of \\'Xiomara\\' is \\'A\\'. Therefore, the answer is \\'PAIA\\'.\", \"answer\": \"PAIA\"}',\n",
       " 'assistant\\n\\n{\"reasoning\": \"The last letter of \\'Norma\\' is \\'A\\', the last letter of \\'Timothy\\' is \\'Y\\', the last letter of \\'Willie\\' is \\'E\\', and the last letter of \\'Mathew\\' is \\'W\\'. Therefore, the answer is \\'AYEW\\'.\", \"answer\": \"AYEW\"}',\n",
       " 'assistant\\n\\n{\"reasoning\": \"The last letter of \\'Lorena\\' is \\'A\\', the last letter of \\'Shana\\' is \\'A\\', the last letter of \\'Priscilla\\' is \\'A\\', and the last letter of \\'Summer\\' is \\'R\\'. Therefore, the answer is \\'AARA\\'.\", \"answer\": \"AARA\"}',\n",
       " 'assistant\\n\\n{\"reasoning\": \"The last letter of \\'Yazmin\\' is \\'N\\', the last letter of \\'Lea\\' is \\'A\\', the last letter of \\'Rodrigo\\' is \\'O\\', and the last letter of \\'Sammy\\' is \\'Y\\'. Therefore, the answer is \\'NAOY\\'.\", \"answer\": \"NAOY\"}',\n",
       " 'assistant\\n\\n{\"reasoning\": \"The last letter of \\'Britt\\' is \\'T\\', the last letter of \\'Tamara\\' is \\'A\\', the last letter of \\'Elvis\\' is \\'S\\', and the last letter of \\'Nayeli\\' is \\'I\\'. Therefore, the answer is \\'TASA\\'.\", \"answer\": \"TASA\"}',\n",
       " 'assistant\\n\\n{\"reasoning\": \"The last letter of \\'Paula\\' is \\'A\\', the last letter of \\'Irina\\' is \\'A\\', the last letter of \\'Laurel\\' is \\'L\\', and the last letter of \\'Maribel\\' is \\'L\\'. Therefore, the answer is \\'AAL\\'.\", \"answer\": \"AAL\"}',\n",
       " 'assistant\\n\\n{\"reasoning\": \"The last letter of \\'Louise\\' is \\'E\\', the last letter of \\'Mariano\\' is \\'O\\', the last letter of \\'Laura\\' is \\'A\\', and the last letter of \\'Gerardo\\' is \\'O\\'. Therefore, the answer is \\'EOAO\\'.\", \"answer\": \"EOAO\"}',\n",
       " 'assistant\\n\\n{\"reasoning\": \"The last letter of \\'Ramona\\' is \\'A\\', the last letter of \\'Lucy\\' is \\'Y\\', the last letter of \\'Gail\\' is \\'L\\', and the last letter of \\'Octavio\\' is \\'O\\'. Therefore, the answer is \\'AYLO\\'.\", \"answer\": \"AYLO\"}',\n",
       " 'assistant\\n\\n{\"reasoning\": \"The last letter of \\'Star\\' is \\'R\\', the last letter of \\'Jude\\' is \\'E\\', the last letter of \\'Rosemarie\\' is \\'E\\', and the last letter of \\'Raquel\\' is \\'L\\'. Therefore, the answer is \\'REEL\\'.\", \"answer\": \"REEL\"}',\n",
       " 'assistant\\n\\n{\"reasoning\": \"The last letter of \\'Amy\\' is \\'Y\\', the last letter of \\'Ella\\' is \\'A\\', the last letter of \\'Amilcar\\' is \\'R\\', and the last letter of \\'Roman\\' is \\'N\\'. Therefore, the answer is \\'YARA\\'.\", \"answer\": \"YARA\"}',\n",
       " 'assistant\\n\\n{\"reasoning\": \"The last letter of \\'Evan\\' is \\'N\\', the last letter of \\'Ray\\' is \\'Y\\', the last letter of \\'Sofia\\' is \\'A\\', and the last letter of \\'Alonso\\' is \\'O\\'. Therefore, the answer is \\'NYAO\\'.\", \"answer\": \"NYAO\"}',\n",
       " 'assistant\\n\\n{\"reasoning\": \"The last letter of \\'Janette\\' is \\'E\\', the last letter of \\'Stacey\\' is \\'Y\\', the last letter of \\'Ronny\\' is \\'Y\\', and the last letter of \\'Kim\\' is \\'M\\'. Therefore, the answer is \\'EYYM\\'.\", \"answer\": \"EYYM\"}',\n",
       " 'assistant\\n\\n{\"reasoning\": \"The last letter of \\'Alina\\' is \\'A\\', the last letter of \\'Alessandra\\' is \\'A\\', the last letter of \\'Amina\\' is \\'A\\', and the last letter of \\'Bianca\\' is \\'A\\'. Therefore, the answer is \\'AAAA\\'.\", \"answer\": \"AAAA\"}',\n",
       " 'assistant\\n\\n{\"reasoning\": \"The last letter of \\'Leigh\\' is \\'H\\', the last letter of \\'Mindy\\' is \\'Y\\', the last letter of \\'Rocky\\' is \\'Y\\', and the last letter of \\'Lex\\' is \\'X\\'. Therefore, the answer is \\'HYXY\\'.\", \"answer\": \"HYXY\"}',\n",
       " 'assistant\\n\\n{\"reasoning\": \"The last letter of \\'Drew\\' is \\'W\\', the last letter of \\'Jhon\\' is \\'N\\', the last letter of \\'Jayden\\' is \\'N\\', and the last letter of \\'Cliff\\' is \\'F\\'. Therefore, the answer is \\'WNNF\\'.\", \"answer\": \"WNNF\"}',\n",
       " 'assistant\\n\\n{\"reasoning\": \"The last letter of \\'Meagan\\' is \\'N\\', the last letter of \\'Naomi\\' is \\'I\\', the last letter of \\'Israel\\' is \\'L\\', and the last letter of \\'Marie\\' is \\'E\\'. Therefore, the answer is \\'NILE\\'.\", \"answer\": \"NILE\"}',\n",
       " 'assistant\\n\\n{\"reasoning\": \"The last letter of \\'Tiara\\' is \\'A\\', the last letter of \\'Araceli\\' is \\'I\\', the last letter of \\'Michaela\\' is \\'A\\', and the last letter of \\'Genaro\\' is \\'O\\'. Therefore, the answer is \\'AI AO\\'.\", \"answer\": \"AI AO\"}',\n",
       " 'assistant\\n\\n{\"reasoning\": \"The last letter of \\'Sonya\\' is \\'A\\', the last letter of \\'Eddy\\' is \\'Y\\', the last letter of \\'Carol\\' is \\'L\\', and the last letter of \\'Yung\\' is \\'G\\'. Therefore, the answer is \\'AYLG\\'.\", \"answer\": \"AYLG\"}',\n",
       " 'assistant\\n\\n{\"reasoning\": \"The last letter of \\'Marcy\\' is \\'Y\\', the last letter of \\'Gonzalez\\' is \\'Z\\', the last letter of \\'Alice\\' is \\'E\\', and the last letter of \\'Arlene\\' is \\'E\\'. Therefore, the answer is \\'YZEE\\'.\", \"answer\": \"YZEE\"}',\n",
       " 'assistant\\n\\n{\"reasoning\": \"The last letter of \\'Alonzo\\' is \\'O\\', the last letter of \\'Dorothy\\' is \\'Y\\', the last letter of \\'Alfred\\' is \\'D\\', and the last letter of \\'Rodriguez\\' is \\'Z\\'. Therefore, the answer is \\'ODYDZ\\'.\", \"answer\": \"ODYDZ\"}',\n",
       " 'assistant\\n\\n{\"reasoning\": \"The last letter of \\'Dorian\\' is \\'N\\', the last letter of \\'Mayra\\' is \\'A\\', the last letter of \\'Freddie\\' is \\'E\\', and the last letter of \\'Magaly\\' is \\'Y\\'. Therefore, the answer is \\'NAEY\\'.\", \"answer\": \"NAEY\"}',\n",
       " 'assistant\\n\\n{\"reasoning\": \"The last letter of \\'Tori\\' is \\'I\\', the last letter of \\'Mariam\\' is \\'M\\', the last letter of \\'Gaby\\' is \\'Y\\', and the last letter of \\'Brayan\\' is \\'N\\'. Therefore, the answer is \\'IMYN\\'.\", \"answer\": \"IMYN\"}',\n",
       " 'assistant\\n\\n{\"reasoning\": \"The last letter of \\'Maritza\\' is \\'A\\', the last letter of \\'Nana\\' is \\'A\\', the last letter of \\'Loretta\\' is \\'A\\', and the last letter of \\'Eric\\' is \\'C\\'. Therefore, the answer is \\'AAAC\\'.\", \"answer\": \"AAAC\"}',\n",
       " 'assistant\\n\\n{\"reasoning\": \"The last letter of \\'Mercedes\\' is \\'S\\', the last letter of \\'Adela\\' is \\'A\\', the last letter of \\'Susana\\' is \\'A\\', and the last letter of \\'Rose\\' is \\'E\\'. Therefore, the answer is \\'SAAE\\'.\", \"answer\": \"SAAE\"}',\n",
       " 'assistant\\n\\n{\"reasoning\": \"The last letter of \\'Claudia\\' is \\'A\\', the last letter of \\'Cole\\' is \\'E\\', the last letter of \\'Matthew\\' is \\'W\\', the last letter of \\'Juan\\' is \\'N\\', and the last letter of \\'Pablo\\' is \\'O\\'. Therefore, the answer is \\'AEWNNO\\'.\", \"answer\": \"AEWNNO\"}',\n",
       " 'assistant\\n\\n{\"reasoning\": \"The last letter of \\'Kali\\' is \\'I\\', the last letter of \\'Jeanette\\' is \\'E\\', the last letter of \\'Tess\\' is \\'S\\', and the last letter of \\'Devin\\' is \\'N\\'. Therefore, the answer is \\'IESN\\'.\", \"answer\": \"IESN\"}',\n",
       " 'assistant\\n\\n{\"reasoning\": \"The last letter of \\'Jacky\\' is \\'Y\\', the last letter of \\'Socorro\\' is \\'O\\', the last letter of \\'Mark\\' is \\'K\\', and the last letter of \\'Wanda\\' is \\'A\\'. Therefore, the answer is \\'YOKA\\'.\", \"answer\": \"YOKA\"}',\n",
       " 'assistant\\n\\n{\"reasoning\": \"The last letter of \\'Rosie\\' is \\'E\\', the last letter of \\'Charlie\\' is \\'E\\', the last letter of \\'Mick\\' is \\'K\\', and the last letter of \\'Jacquelyn\\' is \\'N\\'. Therefore, the answer is \\'EEKN\\'.\", \"answer\": \"EEKN\"}',\n",
       " 'assistant\\n\\n{\"reasoning\": \"The last letter of \\'Andrés\\' is \\'S\\', the last letter of \\'Miles\\' is \\'S\\', the last letter of \\'Ronaldo\\' is \\'O\\', and the last letter of \\'Melinda\\' is \\'A\\'. Therefore, the answer is \\'SSOA\\'.\", \"answer\": \"SSOA\"}',\n",
       " 'assistant\\n\\n{\"reasoning\": \"The last letter of \\'Selina\\' is \\'A\\', the last letter of \\'Tasha\\' is \\'A\\', the last letter of \\'Jarrod\\' is \\'D\\', and the last letter of \\'Maddy\\' is \\'Y\\'. Therefore, the answer is \\'AADY\\'.\", \"answer\": \"AADY\"}',\n",
       " 'assistant\\n\\n{\"reasoning\": \"The last letter of \\'Noelia\\' is \\'A\\', the last letter of \\'Cassidy\\' is \\'Y\\', the last letter of \\'Ashok\\' is \\'K\\', and the last letter of \\'Francisco\\' is \\'O\\'. Therefore, the answer is \\'AYKO\\'.\", \"answer\": \"AYKO\"}',\n",
       " 'assistant\\n\\n{\"reasoning\": \"The last letter of \\'Anastasia\\' is \\'A\\', the last letter of \\'Thelma\\' is \\'A\\', the last letter of \\'Sheri\\' is \\'I\\', and the last letter of \\'Rosita\\' is \\'A\\'. Therefore, the answer is \\'AIAA\\'.\", \"answer\": \"AIAA\"}',\n",
       " 'assistant\\n\\n{\"reasoning\": \"The last letter of \\'Billie\\' is \\'E\\', the last letter of \\'Paloma\\' is \\'A\\', the last letter of \\'Tanner\\' is \\'R\\', and the last letter of \\'Raul\\' is \\'L\\'. Therefore, the answer is \\'EARL\\'.\", \"answer\": \"EARL\"}',\n",
       " 'assistant\\n\\n{\"reasoning\": \"The last letter of \\'Erwin\\' is \\'N\\', the last letter of \\'Chad\\' is \\'D\\', the last letter of \\'Margarito\\' is \\'O\\', and the last letter of \\'Shanna\\' is \\'A\\'. Therefore, the answer is \\'NDOA\\'.\", \"answer\": \"NDOA\"}',\n",
       " 'assistant\\n\\n{\"reasoning\": \"The last letter of \\'Paris\\' is \\'S\\', the last letter of \\'Jimmie\\' is \\'E\\', the last letter of \\'Andrew\\' is \\'W\\', and the last letter of \\'Ramón\\' is \\'N\\'. Therefore, the answer is \\'SEWN\\'.\", \"answer\": \"SEWN\"}',\n",
       " 'assistant\\n\\n{\"reasoning\": \"The last letter of \\'Buddy\\' is \\'Y\\', the last letter of \\'Violet\\' is \\'T\\', the last letter of \\'Johana\\' is \\'A\\', and the last letter of \\'Tina\\' is \\'A\\'. Therefore, the answer is \\'YTA\\'.\", \"answer\": \"YTA\"}',\n",
       " 'assistant\\n\\n{\"reasoning\": \"The last letter of \\'Lora\\' is \\'A\\', the last letter of \\'Alberto\\' is \\'O\\', the last letter of \\'Cathy\\' is \\'Y\\', and the last letter of \\'Kara\\' is \\'A\\'. Therefore, the answer is \\'AOYA\\'.\", \"answer\": \"AOYA\"}',\n",
       " 'assistant\\n\\n{\"reasoning\": \"The last letter of \\'Luz\\' is \\'Z\\', the last letter of \\'Terence\\' is \\'E\\', the last letter of \\'Elder\\' is \\'R\\', and the last letter of \\'Jazmin\\' is \\'N\\'. Therefore, the answer is \\'ZEREN\\'.\", \"answer\": \"ZEREN\"}',\n",
       " 'assistant\\n\\n{\"reasoning\": \"The last letter of \\'Marlen\\' is \\'N\\', the last letter of \\'Sonja\\' is \\'A\\', the last letter of \\'Anita\\' is \\'A\\', and the last letter of \\'Dale\\' is \\'E\\'. Therefore, the answer is \\'NAAE\\'.\", \"answer\": \"NAAE\"}',\n",
       " 'assistant\\n\\n{\"reasoning\": \"The last letter of \\'Ericka\\' is \\'A\\', the last letter of \\'Aly\\' is \\'Y\\', the last letter of \\'Darius\\' is \\'S\\', and the last letter of \\'Reed\\' is \\'D\\'. Therefore, the answer is \\'AYSD\\'.\", \"answer\": \"AYSD\"}',\n",
       " 'assistant\\n\\n{\"reasoning\": \"The last letter of \\'Martha\\' is \\'A\\', the last letter of \\'Elijah\\' is \\'H\\', the last letter of \\'Dominic\\' is \\'C\\', and the last letter of \\'Tonya\\' is \\'A\\'. Therefore, the answer is \\'AHCa\\'.\", \"answer\": \"AHCa\"}',\n",
       " 'assistant\\n\\n{\"reasoning\": \"The last letter of \\'Yamileth\\' is \\'H\\', the last letter of \\'Dane\\' is \\'E\\', the last letter of \\'Aron\\' is \\'N\\', and the last letter of \\'Dee\\' is \\'E\\'. Therefore, the answer is \\'HENE\\'.\", \"answer\": \"HENE\"}',\n",
       " 'assistant\\n\\n{\"reasoning\": \"The last letter of \\'Kristen\\' is \\'N\\', the last letter of \\'Herbert\\' is \\'T\\', the last letter of \\'Benny\\' is \\'Y\\', and the last letter of \\'El\\' is \\'L\\'. Therefore, the answer is \\'NTYL\\'.\", \"answer\": \"NTYL\"}',\n",
       " 'assistant\\n\\n{\"reasoning\": \"The last letter of \\'Liliana\\' is \\'A\\', the last letter of \\'Quincy\\' is \\'Y\\', the last letter of \\'Bart\\' is \\'T\\', and the last letter of \\'Makayla\\' is \\'A\\'. Therefore, the answer is \\'AYTA\\'.\", \"answer\": \"AYTA\"}',\n",
       " 'assistant\\n\\n{\"reasoning\": \"The last letter of \\'María\\' is \\'A\\', the last letter of \\'Fredy\\' is \\'Y\\', the last letter of \\'Bridgette\\' is \\'E\\', and the last letter of \\'Kenya\\' is \\'A\\'. Therefore, the answer is \\'AYEA\\'.\", \"answer\": \"AYEA\"}',\n",
       " 'assistant\\n\\n{\"reasoning\": \"The last letter of \\'Alexander\\' is \\'R\\', the last letter of \\'Marina\\' is \\'A\\', the last letter of \\'Valentina\\' is \\'A\\', and the last letter of \\'Mila\\' is \\'A\\'. Therefore, the answer is \\'RAAA\\'.\", \"answer\": \"RAAA\"}',\n",
       " 'assistant\\n\\n{\"reasoning\": \"The last letter of \\'Maxwell\\' is \\'L\\', the last letter of \\'Jose\\' is \\'E\\', the last letter of \\'Beto\\' is \\'O\\', and the last letter of \\'Joe\\' is \\'E\\'. Therefore, the answer is \\'LEOE\\'.\", \"answer\": \"LEOE\"}',\n",
       " 'assistant\\n\\n{\"reasoning\": \"The last letter of \\'Carmelo\\' is \\'O\\', the last letter of \\'Tony\\' is \\'Y\\', the last letter of \\'Susan\\' is \\'N\\', and the last letter of \\'Sara\\' is \\'A\\'. Therefore, the answer is \\'ONYA\\'.\", \"answer\": \"ONYA\"}',\n",
       " 'assistant\\n\\n{\"reasoning\": \"The last letter of \\'Angeles\\' is \\'S\\', the last letter of \\'Richard\\' is \\'D\\', the last letter of \\'Luciana\\' is \\'A\\', and the last letter of \\'Darlene\\' is \\'E\\'. Therefore, the answer is \\'SDAE\\'.\", \"answer\": \"SDAE\"}',\n",
       " 'assistant\\n\\n{\"reasoning\": \"The last letter of \\'Phillip\\' is \\'P\\', the last letter of \\'Ajay\\' is \\'Y\\', the last letter of \\'Janie\\' is \\'E\\', and the last letter of \\'Augusto\\' is \\'O\\'. Therefore, the answer is \\'PYEO\\'.\", \"answer\": \"PYEO\"}',\n",
       " 'assistant\\n\\n{\"reasoning\": \"The last letter of \\'Andy\\' is \\'Y\\', the last letter of \\'Cecilia\\' is \\'A\\', the last letter of \\'Gretchen\\' is \\'N\\', and the last letter of \\'Sandi\\' is \\'I\\'. Therefore, the answer is \\'YANA\\'.\", \"answer\": \"YANA\"}',\n",
       " 'assistant\\n\\n{\"reasoning\": \"The last letter of \\'Pedro\\' is \\'O\\', the last letter of \\'Leopoldo\\' is \\'O\\', the last letter of \\'Tee\\' is \\'E\\', and the last letter of \\'Mar\\' is \\'R\\'. Therefore, the answer is \\'OORE\\'.\", \"answer\": \"OORE\"}',\n",
       " 'assistant\\n\\n{\"reasoning\": \"The last letter of \\'Pauline\\' is \\'E\\', the last letter of \\'Kerry\\' is \\'Y\\', the last letter of \\'Jeannette\\' is \\'E\\', and the last letter of \\'Hope\\' is \\'E\\'. Therefore, the answer is \\'EYEE\\'.\", \"answer\": \"EYEE\"}',\n",
       " 'assistant\\n\\n{\"reasoning\": \"The last letter of \\'Daniella\\' is \\'A\\', the last letter of \\'Dianne\\' is \\'E\\', the last letter of \\'Ram\\' is \\'M\\', and the last letter of \\'Mirian\\' is \\'N\\'. Therefore, the answer is \\'AEMN\\'.\", \"answer\": \"AEMN\"}',\n",
       " 'assistant\\n\\n{\"reasoning\": \"The last letter of \\'Natalie\\' is \\'E\\', the last letter of \\'Gilbert\\' is \\'T\\', the last letter of \\'Brian\\' is \\'N\\', and the last letter of \\'Sanchez\\' is \\'E\\'. Therefore, the answer is \\'ETNE\\'.\", \"answer\": \"ETNE\"}',\n",
       " 'assistant\\n\\n{\"reasoning\": \"The last letter of \\'Jorge\\' is \\'E\\', the last letter of \\'Luis\\' is \\'S\\', the last letter of \\'Mo\\' is \\'O\\', the last letter of \\'Alexia\\' is \\'A\\', and the last letter of \\'Jerry\\' is \\'Y\\'. Therefore, the answer is \\'ESOAY\\'.\", \"answer\": \"ESOAY\"}',\n",
       " 'assistant\\n\\n{\"reasoning\": \"The last letter of \\'Donnie\\' is \\'E\\', the last letter of \\'Alli\\' is \\'I\\', the last letter of \\'Terry\\' is \\'Y\\', and the last letter of \\'Krystal\\' is \\'L\\'. Therefore, the answer is \\'E-I-Y-L\\'.\", \"answer\": \"E-I-Y-L\"}',\n",
       " 'assistant\\n\\n{\"reasoning\": \"The last letter of \\'Guillermo\\' is \\'O\\', the last letter of \\'Gerry\\' is \\'Y\\', the last letter of \\'Lizbeth\\' is \\'H\\', and the last letter of \\'Charly\\' is \\'Y\\'. Therefore, the answer is \\'OYHY\\'.\", \"answer\": \"OYHY\"}',\n",
       " 'assistant\\n\\n{\"reasoning\": \"The last letter of \\'Issa\\' is \\'A\\', the last letter of \\'Kendra\\' is \\'A\\', the last letter of \\'Ignacio\\' is \\'O\\', and the last letter of \\'Henry\\' is \\'Y\\'. Therefore, the answer is \\'A-A-O-Y\\'.\", \"answer\": \"AAOY\"}',\n",
       " 'assistant\\n\\n{\"reasoning\": \"The last letter of \\'Bob\\' is \\'B\\', the last letter of \\'Aman\\' is \\'N\\', the last letter of \\'Richie\\' is \\'E\\', and the last letter of \\'Sana\\' is \\'A\\'. Therefore, the answer is \\'BNEA\\'.\", \"answer\": \"BNEA\"}',\n",
       " 'assistant\\n\\n{\"reasoning\": \"The last letter of \\'Hazel\\' is \\'L\\', the last letter of \\'Gabrielle\\' is \\'E\\', the last letter of \\'Tre\\' is \\'E\\', and the last letter of \\'Dalton\\' is \\'N\\'. Therefore, the answer is \\'LEEN\\'.\", \"answer\": \"LEEN\"}',\n",
       " 'assistant\\n\\n{\"reasoning\": \"The last letter of \\'Carissa\\' is \\'A\\', the last letter of \\'Paige\\' is \\'E\\', the last letter of \\'Consuelo\\' is \\'O\\', and the last letter of \\'Izzy\\' is \\'Y\\'. Therefore, the answer is \\'AEONY\\'.\", \"answer\": \"AEONY\"}',\n",
       " 'assistant\\n\\n{\"reasoning\": \"The last letter of \\'Jon\\' is \\'N\\', the last letter of \\'Heath\\' is \\'H\\', the last letter of \\'Reynaldo\\' is \\'O\\', and the last letter of \\'Catherine\\' is \\'E\\'. Therefore, the answer is \\'NHOE\\'.\", \"answer\": \"NHOE\"}',\n",
       " 'assistant\\n\\n{\"reasoning\": \"The last letter of \\'Evelyn\\' is \\'N\\', the last letter of \\'Mason\\' is \\'N\\', the last letter of \\'Shelby\\' is \\'Y\\', and the last letter of \\'Aldo\\' is \\'O\\'. Therefore, the answer is \\'N-N-Y-O\\'.\", \"answer\": \"NNYO\"}',\n",
       " 'assistant\\n\\n{\"reasoning\": \"The last letter of \\'Alexandria\\' is \\'A\\', the last letter of \\'Meghan\\' is \\'N\\', the last letter of \\'Autumn\\' is \\'N\\', and the last letter of \\'Robert\\' is \\'T\\'. Therefore, the answer is \\'ANNT\\'.\", \"answer\": \"ANNT\"}',\n",
       " 'assistant\\n\\n{\"reasoning\": \"The last letter of \\'Angela\\' is \\'A\\', the last letter of \\'Krista\\' is \\'A\\', the last letter of \\'Cora\\' is \\'A\\', and the last letter of \\'Denisse\\' is \\'E\\'. Therefore, the answer is \\'AAAE\\'.\", \"answer\": \"AAAE\"}',\n",
       " 'assistant\\n\\n{\"reasoning\": \"The last letter of \\'Juliet\\' is \\'T\\', the last letter of \\'Ricardo\\' is \\'O\\', the last letter of \\'Tita\\' is \\'A\\', and the last letter of \\'Dianna\\' is \\'A\\'. Therefore, the answer is \\'TOAA\\'.\", \"answer\": \"TOAA\"}',\n",
       " 'assistant\\n\\n{\"reasoning\": \"The last letter of \\'Arthur\\' is \\'R\\', the last letter of \\'Shan\\' is \\'N\\', the last letter of \\'Norman\\' is \\'N\\', and the last letter of \\'Manny\\' is \\'Y\\'. Therefore, the answer is \\'RNNY\\'.\", \"answer\": \"RNNY\"}',\n",
       " 'assistant\\n\\n{\"reasoning\": \"The last letter of \\'Dustin\\' is \\'N\\', the last letter of \\'Luiz\\' is \\'Z\\', the last letter of \\'Rolando\\' is \\'O\\', and the last letter of \\'Connor\\' is \\'R\\'. Therefore, the answer is \\'NZOR\\'.\", \"answer\": \"NZOR\"}',\n",
       " 'assistant\\n\\n{\"reasoning\": \"The last letter of \\'Madeline\\' is \\'E\\', the last letter of \\'Mckenzie\\' is \\'E\\', the last letter of \\'Louie\\' is \\'E\\', and the last letter of \\'Dylan\\' is \\'N\\'. Therefore, the answer is \\'EEEN\\'.\", \"answer\": \"EEEN\"}',\n",
       " 'assistant\\n\\n{\"reasoning\": \"The last letter of \\'Jeremy\\' is \\'Y\\', the last letter of \\'Simone\\' is \\'E\\', the last letter of \\'Alondra\\' is \\'A\\', and the last letter of \\'Wyatt\\' is \\'T\\'. Therefore, the answer is \\'YEAT\\'.\", \"answer\": \"YEAT\"}',\n",
       " 'assistant\\n\\n{\"reasoning\": \"The last letter of \\'Melody\\' is \\'Y\\', the last letter of \\'Ramiro\\' is \\'O\\', the last letter of \\'Humberto\\' is \\'O\\', and the last letter of \\'Jacob\\' is \\'B\\'. Therefore, the answer is \\'YOBOB\\'.\", \"answer\": \"YOBOB\"}',\n",
       " 'assistant\\n\\n{\"reasoning\": \"The last letter of \\'Ruben\\' is \\'N\\', the last letter of \\'Bernardo\\' is \\'O\\', the last letter of \\'Ariel\\' is \\'L\\', and the last letter of \\'Shelley\\' is \\'Y\\'. Therefore, the answer is \\'NOLY\\'.\", \"answer\": \"NOLY\"}',\n",
       " 'assistant\\n\\n{\"reasoning\": \"The last letter of \\'Russell\\' is \\'L\\', the last letter of \\'Mitchell\\' is \\'L\\', the last letter of \\'Bee\\' is \\'E\\', and the last letter of \\'Faith\\' is \\'H\\'. Therefore, the answer is \\'LLEH\\'.\", \"answer\": \"LLEH\"}',\n",
       " 'assistant\\n\\n{\"reasoning\": \"The last letter of \\'Salma\\' is \\'A\\', the last letter of \\'Pj\\' is \\'J\\', the last letter of \\'Gladis\\' is \\'S\\', and the last letter of \\'Monica\\' is \\'A\\'. Therefore, the answer is \\'AJSA\\'.\", \"answer\": \"AJSA\"}',\n",
       " 'assistant\\n\\n{\"reasoning\": \"The last letter of \\'Miranda\\' is \\'A\\', the last letter of \\'Jacques\\' is \\'S\\', the last letter of \\'Clarence\\' is \\'E\\', and the last letter of \\'Chandra\\' is \\'A\\'. Therefore, the answer is \\'ASEA\\'.\", \"answer\": \"ASEA\"}',\n",
       " 'assistant\\n\\n{\"reasoning\": \"The last letter of \\'Janice\\' is \\'E\\', the last letter of \\'Shelly\\' is \\'Y\\', the last letter of \\'Arnulfo\\' is \\'O\\', and the last letter of \\'Nestor\\' is \\'R\\'. Therefore, the answer is \\'EYOR\\'.\", \"answer\": \"EYOR\"}',\n",
       " 'assistant\\n\\n{\"reasoning\": \"The last letter of \\'Johan\\' is \\'N\\', the last letter of \\'Damien\\' is \\'N\\', the last letter of \\'Serena\\' is \\'A\\', and the last letter of \\'Grace\\' is \\'E\\'. Therefore, the answer is \\'NNAE\\'.\", \"answer\": \"NNAE\"}',\n",
       " 'assistant\\n\\n{\"reasoning\": \"The last letter of \\'Arnold\\' is \\'D\\', the last letter of \\'Aidan\\' is \\'N\\', the last letter of \\'Ally\\' is \\'Y\\', and the last letter of \\'Ami\\' is \\'I\\'. Therefore, the answer is \\'DNYI\\'.\", \"answer\": \"DNYI\"}',\n",
       " 'assistant\\n\\n{\"reasoning\": \"The last letter of \\'Rohan\\' is \\'N\\', the last letter of \\'Antoinette\\' is \\'E\\', the last letter of \\'Nikki\\' is \\'I\\', and the last letter of \\'Aida\\' is \\'A\\'. Therefore, the answer is \\'NEIA\\'.\", \"answer\": \"NEIA\"}',\n",
       " 'assistant\\n\\n{\"reasoning\": \"The last letter of \\'Scotty\\' is \\'Y\\', the last letter of \\'Edgar\\' is \\'R\\', the last letter of \\'Hanna\\' is \\'A\\', and the last letter of \\'Austin\\' is \\'N\\'. Therefore, the answer is \\'YRAN\\'.\", \"answer\": \"YRAN\"}',\n",
       " 'assistant\\n\\n{\"reasoning\": \"The last letter of \\'Katia\\' is \\'A\\', the last letter of \\'Mina\\' is \\'A\\', the last letter of \\'Cam\\' is \\'M\\', and the last letter of \\'Ronda\\' is \\'A\\'. Therefore, the answer is \\'AAMA\\'.\", \"answer\": \"AAMA\"}',\n",
       " 'assistant\\n\\n{\"reasoning\": \"The last letter of \\'Kennedy\\' is \\'Y\\', the last letter of \\'Ginny\\' is \\'Y\\', the last letter of \\'Iliana\\' is \\'A\\', and the last letter of \\'Sky\\' is \\'Y\\'. Therefore, the answer is \\'YYAY\\'.\", \"answer\": \"YYAY\"}',\n",
       " 'assistant\\n\\n{\"reasoning\": \"The last letter of \\'Sophie\\' is \\'E\\', the last letter of \\'Gregorio\\' is \\'O\\', the last letter of \\'Avery\\' is \\'Y\\', and the last letter of \\'Pooja\\' is \\'A\\'. Therefore, the answer is \\'EOYA\\'.\", \"answer\": \"EOYA\"}',\n",
       " 'assistant\\n\\n{\"reasoning\": \"The last letter of \\'Dave\\' is \\'E\\', the last letter of \\'Ernesto\\' is \\'O\\', the last letter of \\'Liam\\' is \\'M\\', and the last letter of \\'Marsha\\' is \\'A\\'. Therefore, the answer is \\'EOMA\\'.\", \"answer\": \"EOMA\"}',\n",
       " 'assistant\\n\\n{\"reasoning\": \"The last letter of \\'Kristine\\' is \\'E\\', the last letter of \\'Van\\' is \\'N\\', the last letter of \\'Marisol\\' is \\'L\\', and the last letter of \\'Preston\\' is \\'N\\'. Therefore, the answer is \\'ENLN\\'.\", \"answer\": \"ENLN\"}',\n",
       " 'assistant\\n\\n{\"reasoning\": \"The last letter of \\'Alexa\\' is \\'A\\', the last letter of \\'Pilar\\' is \\'R\\', the last letter of \\'Rod\\' is \\'D\\', and the last letter of \\'Nicola\\' is \\'A\\'. Therefore, the answer is \\'ARDA\\'.\", \"answer\": \"ARDA\"}',\n",
       " 'assistant\\n\\n{\"reasoning\": \"The last letter of \\'Todd\\' is \\'D\\', the last letter of \\'Joni\\' is \\'I\\', the last letter of \\'Gil\\' is \\'L\\', and the last letter of \\'Fran\\' is \\'N\\'. Therefore, the answer is \\'DILN\\'.\", \"answer\": \"DILN\"}',\n",
       " 'assistant\\n\\n{\"reasoning\": \"The last letter of \\'Yan\\' is \\'N\\', the last letter of \\'Eunice\\' is \\'E\\', the last letter of \\'Joseph\\' is \\'F\\', and the last letter of \\'Hugh\\' is \\'H\\'. Therefore, the answer is \\'NEFH\\'.\", \"answer\": \"NEFH\"}',\n",
       " 'assistant\\n\\n{\"reasoning\": \"The last letter of \\'Elizabeth\\' is \\'H\\', the last letter of \\'Mitch\\' is \\'H\\', the last letter of \\'Brooke\\' is \\'E\\', and the last letter of \\'Jordyn\\' is \\'N\\'. Therefore, the answer is \\'HHEH\\'.\", \"answer\": \"HHEH\"}',\n",
       " 'assistant\\n\\n{\"reasoning\": \"The last letter of \\'Bailey\\' is \\'Y\\', the last letter of \\'Lourdes\\' is \\'S\\', the last letter of \\'Brianna\\' is \\'A\\', and the last letter of \\'Martín\\' is \\'N\\'. Therefore, the answer is \\'YSAN\\'.\", \"answer\": \"YSAN\"}',\n",
       " 'assistant\\n\\n{\"reasoning\": \"The last letter of \\'Wally\\' is \\'Y\\', the last letter of \\'Claire\\' is \\'E\\', the last letter of \\'Helen\\' is \\'N\\', and the last letter of \\'Nacho\\' is \\'O\\'. Therefore, the answer is \\'YE NO\\'.\", \"answer\": \"YE NO\"}',\n",
       " 'assistant\\n\\n{\"reasoning\": \"The last letter of \\'Cat\\' is \\'T\\', the last letter of \\'Alisha\\' is \\'A\\', the last letter of \\'Ramon\\' is \\'N\\', and the last letter of \\'Norberto\\' is \\'O\\'. Therefore, the answer is \\'TANA\\'.\", \"answer\": \"TANA\"}',\n",
       " 'assistant\\n\\n{\"reasoning\": \"The last letter of \\'Miguel\\' is \\'L\\', the last letter of \\'Angel\\' is \\'L\\', the last letter of \\'Saul\\' is \\'L\\', the last letter of \\'Brady\\' is \\'Y\\', and the last letter of \\'Darryl\\' is \\'L\\'. Therefore, the answer is \\'LLLLY\\'.\", \"answer\": \"LLLLY\"}',\n",
       " 'assistant\\n\\n{\"reasoning\": \"The last letter of \\'Debi\\' is \\'I\\', the last letter of \\'Raymond\\' is \\'D\\', the last letter of \\'Luis\\' is \\'S\\', and the last letter of \\'Federico\\' is \\'O\\'. Therefore, the answer is \\'IDSO\\'.\", \"answer\": \"IDSO\"}',\n",
       " 'assistant\\n\\n{\"reasoning\": \"The last letter of \\'Denny\\' is \\'Y\\', the last letter of \\'Carlo\\' is \\'O\\', the last letter of \\'Reinaldo\\' is \\'O\\', and the last letter of \\'Jessi\\' is \\'I\\'. Therefore, the answer is \\'YOYOI\\'.\", \"answer\": \"YOYOI\"}',\n",
       " 'assistant\\n\\n{\"reasoning\": \"The last letter of \\'Yvonne\\' is \\'E\\', the last letter of \\'Rafaela\\' is \\'A\\', the last letter of \\'Jb\\' is \\'B\\' (assuming \\'Jb\\' is a shortened form of a name, and \\'B\\' is the last letter), and the last letter of \\'Salomon\\' is \\'N\\'. Therefore, the answer is \\'EABN\\'.\", \"answer\": \"EABN\"}',\n",
       " 'assistant\\n\\n{\"reasoning\": \"The last letter of \\'Agnes\\' is \\'S\\', the last letter of \\'Adrienne\\' is \\'E\\', the last letter of \\'Haley\\' is \\'Y\\', and the last letter of \\'Riley\\' is \\'Y\\'. Therefore, the answer is \\'SEYY\\'.\", \"answer\": \"SEYY\"}',\n",
       " 'assistant\\n\\n{\"reasoning\": \"The last letter of \\'Oscar\\' is \\'R\\', the last letter of \\'George\\' is \\'E\\', the last letter of \\'Sanjay\\' is \\'Y\\', and the last letter of \\'Haydee\\' is \\'E\\'. Therefore, the answer is \\'REYE\\'.\", \"answer\": \"REYE\"}',\n",
       " 'assistant\\n\\n{\"reasoning\": \"The last letter of \\'Eugenio\\' is \\'O\\', the last letter of \\'Moises\\' is \\'S\\', the last letter of \\'Marion\\' is \\'N\\', and the last letter of \\'Kirk\\' is \\'K\\'. Therefore, the answer is \\'OSNK\\'.\", \"answer\": \"OSNK\"}',\n",
       " 'assistant\\n\\n{\"reasoning\": \"The last letter of \\'Lara\\' is \\'A\\', the last letter of \\'Greg\\' is \\'G\\', the last letter of \\'Ethan\\' is \\'N\\', and the last letter of \\'Terrence\\' is \\'E\\'. Therefore, the answer is \\'AGNE\\'.\", \"answer\": \"AGNE\"}',\n",
       " 'assistant\\n\\n{\"reasoning\": \"The last letter of \\'Charity\\' is \\'Y\\', the last letter of \\'Svetlana\\' is \\'A\\', the last letter of \\'Jamie\\' is \\'E\\', the last letter of \\'Jose\\' is \\'E\\', and the last letter of \\'A\\' is \\'A\\'. Therefore, the answer is \\'YAEAE\\'.\", \"answer\": \"YAEAE\"}',\n",
       " 'assistant\\n\\n{\"reasoning\": \"The last letter of \\'Tristan\\' is \\'N\\', the last letter of \\'Marleny\\' is \\'Y\\', the last letter of \\'Santiago\\' is \\'O\\', and the last letter of \\'Viviana\\' is \\'A\\'. Therefore, the answer is \\'NYOA\\'.\", \"answer\": \"NYOA\"}',\n",
       " 'assistant\\n\\n{\"reasoning\": \"The last letter of \\'Theo\\' is \\'O\\', the last letter of \\'Sheila\\' is \\'A\\', the last letter of \\'Mariana\\' is \\'A\\', and the last letter of \\'Esmeralda\\' is \\'A\\'. Therefore, the answer is \\'OAAA\\'.\", \"answer\": \"OAAA\"}',\n",
       " 'assistant\\n\\n{\"reasoning\": \"The last letter of \\'Tucker\\' is \\'R\\', the last letter of \\'Daniel\\' is \\'L\\', the last letter of \\'Hernandez\\' is \\'Z\\', and the last letter of \\'Alison\\' is \\'N\\'. Therefore, the answer is \\'RLZN\\'.\", \"answer\": \"RLZN\"}',\n",
       " 'assistant\\n\\n{\"reasoning\": \"The last letter of \\'Charmaine\\' is \\'E\\', the last letter of \\'Vic\\' is \\'C\\', the last letter of \\'Homero\\' is \\'O\\', and the last letter of \\'Jeanine\\' is \\'E\\'. Therefore, the answer is \\'ECCO\\'.\", \"answer\": \"ECCO\"}',\n",
       " 'assistant\\n\\n{\"reasoning\": \"The last letter of \\'Dan\\' is \\'N\\', the last letter of \\'Ruth\\' is \\'H\\', the last letter of \\'Xavier\\' is \\'R\\', and the last letter of \\'Isidro\\' is \\'O\\'. Therefore, the answer is \\'NHRo\\'.\", \"answer\": \"NHRo\"}',\n",
       " 'assistant\\n\\n{\"reasoning\": \"The last letter of \\'Amparo\\' is \\'O\\', the last letter of \\'Gianna\\' is \\'A\\', the last letter of \\'Dion\\' is \\'N\\', and the last letter of \\'Tessa\\' is \\'A\\'. Therefore, the answer is \\'OANA\\'.\", \"answer\": \"OANA\"}',\n",
       " 'assistant\\n\\n{\"reasoning\": \"The last letter of \\'Boris\\' is \\'S\\', the last letter of \\'Sabina\\' is \\'A\\', the last letter of \\'Kaitlyn\\' is \\'N\\', and the last letter of \\'Cameron\\' is \\'N\\'. Therefore, the answer is \\'SAN\\'.\", \"answer\": \"SAN\"}',\n",
       " 'assistant\\n\\n{\"reasoning\": \"The last letter of \\'Bill\\' is \\'L\\', the last letter of \\'Santos\\' is \\'S\\', the last letter of \\'Roxy\\' is \\'Y\\', and the last letter of \\'Randi\\' is \\'I\\'. Therefore, the answer is \\'LSYI\\'.\", \"answer\": \"LSYI\"}',\n",
       " 'assistant\\n\\n{\"reasoning\": \"The last letter of \\'Silvia\\' is \\'A\\', the last letter of \\'Carolina\\' is \\'A\\', the last letter of \\'Stan\\' is \\'N\\', and the last letter of \\'Chuck\\' is \\'K\\'. Therefore, the answer is \\'AANAK\\'.\", \"answer\": \"AANAK\"}',\n",
       " 'assistant\\n\\n{\"reasoning\": \"The last letter of \\'Larissa\\' is \\'A\\', the last letter of \\'Shawna\\' is \\'A\\', the last letter of \\'Alma\\' is \\'A\\', and the last letter of \\'Paulette\\' is \\'E\\'. Therefore, the answer is \\'AAAE\\'.\", \"answer\": \"AAAE\"}',\n",
       " 'assistant\\n\\n{\"reasoning\": \"The last letter of \\'Delia\\' is \\'A\\', the last letter of \\'Kathleen\\' is \\'N\\', the last letter of \\'Mateo\\' is \\'O\\', and the last letter of \\'Marvin\\' is \\'N\\'. Therefore, the answer is \\'ANON\\'.\", \"answer\": \"ANON\"}',\n",
       " 'assistant\\n\\n{\"reasoning\": \"The last letter of \\'Cristian\\' is \\'N\\', the last letter of \\'Nik\\' is \\'K\\', the last letter of \\'Gwen\\' is \\'N\\', and the last letter of \\'Josiah\\' is \\'H\\'. Therefore, the answer is \\'NKNH\\'.\", \"answer\": \"NKNH\"}',\n",
       " 'assistant\\n\\n{\"reasoning\": \"The last letter of \\'Lalo\\' is \\'O\\', the last letter of \\'Yolanda\\' is \\'A\\', the last letter of \\'Elida\\' is \\'A\\', and the last letter of \\'Ester\\' is \\'R\\'. Therefore, the answer is \\'OARA\\'.\", \"answer\": \"OARA\"}',\n",
       " 'assistant\\n\\n{\"reasoning\": \"The last letter of \\'Tere\\' is \\'E\\', the last letter of \\'Niko\\' is \\'O\\', the last letter of \\'Keith\\' is \\'H\\', and the last letter of \\'Conner\\' is \\'R\\'. Therefore, the answer is \\'EORH\\'.\", \"answer\": \"EORH\"}',\n",
       " 'assistant\\n\\n{\"reasoning\": \"The last letter of \\'Blake\\' is \\'E\\', the last letter of \\'Hunter\\' is \\'R\\', the last letter of \\'Lou\\' is \\'U\\', and the last letter of \\'Spencer\\' is \\'R\\'. Therefore, the answer is \\'ERUR\\'.\", \"answer\": \"ERUR\"}',\n",
       " 'assistant\\n\\n{\"reasoning\": \"The last letter of \\'Deon\\' is \\'N\\', the last letter of \\'Lane\\' is \\'E\\', the last letter of \\'Everett\\' is \\'T\\', and the last letter of \\'Lindsay\\' is \\'Y\\'. Therefore, the answer is \\'NETY\\'.\", \"answer\": \"NETY\"}',\n",
       " 'assistant\\n\\n{\"reasoning\": \"The last letter of \\'Marco\\' is \\'O\\', the last letter of \\'Antonio\\' is \\'O\\', the last letter of \\'Suzette\\' is \\'E\\', the last letter of \\'Roland\\' is \\'D\\', and the last letter of \\'Isabel\\' is \\'L\\'. Therefore, the answer is \\'OOEFDL\\'.\", \"answer\": \"OOEFDL\"}',\n",
       " 'assistant\\n\\n{\"reasoning\": \"The last letter of \\'Corey\\' is \\'Y\\', the last letter of \\'Elvin\\' is \\'N\\', the last letter of \\'Tino\\' is \\'O\\', and the last letter of \\'Melvin\\' is \\'N\\'. Therefore, the answer is \\'YNNO\\'.\", \"answer\": \"YNNO\"}',\n",
       " 'assistant\\n\\n{\"reasoning\": \"The last letter of \\'Darwin\\' is \\'N\\', the last letter of \\'Colin\\' is \\'N\\', the last letter of \\'Cj\\' is \\'J\\' (assuming \\'Cj\\' is a single word, if it\\'s a typo, please clarify), and the last letter of \\'Abhishek\\' is \\'K\\'. Therefore, the answer is \\'NNJK\\'.\", \"answer\": \"NNJK\"}',\n",
       " 'assistant\\n\\n{\"reasoning\": \"The last letter of \\'Mario\\' is \\'O\\', the last letter of \\'Pierre\\' is \\'E\\', the last letter of \\'Amit\\' is \\'T\\', and the last letter of \\'Nelson\\' is \\'N\\'. Therefore, the answer is \\'OETN\\'.\", \"answer\": \"OETN\"}',\n",
       " 'assistant\\n\\n{\"reasoning\": \"The last letter of \\'April\\' is \\'L\\', the last letter of \\'Molly\\' is \\'Y\\', the last letter of \\'Maurice\\' is \\'E\\', and the last letter of \\'Jaclyn\\' is \\'N\\'. Therefore, the answer is \\'LYEN\\'.\", \"answer\": \"LYEN\"}',\n",
       " 'assistant\\n\\n{\"reasoning\": \"The last letter of \\'Edwin\\' is \\'N\\', the last letter of \\'Lovely\\' is \\'Y\\', the last letter of \\'Curt\\' is \\'T\\', and the last letter of \\'Damon\\' is \\'N\\'. Therefore, the answer is \\'NTYN\\'.\", \"answer\": \"NTYN\"}',\n",
       " 'assistant\\n\\n{\"reasoning\": \"The last letter of \\'Beatriz\\' is \\'Z\\', the last letter of \\'Gillian\\' is \\'N\\', the last letter of \\'Coco\\' is \\'O\\', and the last letter of \\'Vivian\\' is \\'N\\'. Therefore, the answer is \\'ZNON\\'.\", \"answer\": \"ZNON\"}',\n",
       " 'assistant\\n\\n{\"reasoning\": \"The last letter of \\'Cristobal\\' is \\'L\\', the last letter of \\'Dania\\' is \\'A\\', the last letter of \\'Li\\' is \\'I\\', and the last letter of \\'Anna\\' is \\'A\\'. Therefore, the answer is \\'LAI\\'.\", \"answer\": \"LAI\"}',\n",
       " 'assistant\\n\\n{\"reasoning\": \"The last letter of \\'Noah\\' is \\'H\\', the last letter of \\'Aubrey\\' is \\'Y\\', the last letter of \\'Cesar\\' is \\'R\\', and the last letter of \\'Eliana\\' is \\'A\\'. Therefore, the answer is \\'HRYA\\'.\", \"answer\": \"HRYA\"}',\n",
       " 'assistant\\n\\n{\"reasoning\": \"The last letter of \\'Sid\\' is \\'D\\', the last letter of \\'Isabelle\\' is \\'E\\', the last letter of \\'Jackson\\' is \\'N\\', and the last letter of \\'Heidy\\' is \\'Y\\'. Therefore, the answer is \\'DENY\\'.\", \"answer\": \"DENY\"}',\n",
       " 'assistant\\n\\n{\"reasoning\": \"The last letter of \\'Dalila\\' is \\'A\\', the last letter of \\'Emily\\' is \\'Y\\', the last letter of \\'Casey\\' is \\'Y\\', and the last letter of \\'Clifford\\' is \\'D\\'. Therefore, the answer is \\'AYYD\\'.\", \"answer\": \"AYYD\"}',\n",
       " 'assistant\\n\\n{\"reasoning\": \"The last letter of \\'Isela\\' is \\'A\\', the last letter of \\'Leslie\\' is \\'E\\', the last letter of \\'Stacy\\' is \\'Y\\', and the last letter of \\'Ingrid\\' is \\'D\\'. Therefore, the answer is \\'AEYD\\'.\", \"answer\": \"AEYD\"}',\n",
       " 'assistant\\n\\n{\"reasoning\": \"The last letter of \\'Jae\\' is \\'E\\', the last letter of \\'Dennis\\' is \\'S\\', the last letter of \\'Cris\\' is \\'S\\', and the last letter of \\'Bernadette\\' is \\'E\\'. Therefore, the answer is \\'ESSE\\'.\", \"answer\": \"ESSE\"}',\n",
       " 'assistant\\n\\n{\"reasoning\": \"The last letter of \\'Hank\\' is \\'K\\', the last letter of \\'Janine\\' is \\'E\\', the last letter of \\'Frankie\\' is \\'E\\', and the last letter of \\'Isa\\' is \\'A\\'. Therefore, the answer is \\'KEEA\\'.\", \"answer\": \"KEEA\"}',\n",
       " 'assistant\\n\\n{\"reasoning\": \"The last letter of \\'Lesley\\' is \\'Y\\', the last letter of \\'Luna\\' is \\'A\\', the last letter of \\'Nadia\\' is \\'A\\', and the last letter of \\'Adriana\\' is \\'A\\'. Therefore, the answer is \\'YAAA\\'.\", \"answer\": \"YAAA\"}',\n",
       " 'assistant\\n\\n{\"reasoning\": \"The last letter of \\'Bethany\\' is \\'Y\\', the last letter of \\'Rakesh\\' is \\'H\\', the last letter of \\'Christine\\' is \\'E\\', and the last letter of \\'Dinesh\\' is \\'H\\'. Therefore, the answer is \\'YHEH\\'.\", \"answer\": \"YHEH\"}',\n",
       " 'assistant\\n\\n{\"reasoning\": \"The last letter of \\'Skylar\\' is \\'R\\', the last letter of \\'Chrissy\\' is \\'Y\\', the last letter of \\'Misty\\' is \\'Y\\', and the last letter of \\'Kike\\' is \\'E\\'. Therefore, the answer is \\'RYYE\\'.\", \"answer\": \"RYYE\"}',\n",
       " 'assistant\\n\\n{\"reasoning\": \"The last letter of \\'Rosario\\' is \\'O\\', the last letter of \\'Manoj\\' is \\'J\\', the last letter of \\'Adolfo\\' is \\'O\\', and the last letter of \\'Reina\\' is \\'A\\'. Therefore, the answer is \\'OJOA\\'.\", \"answer\": \"OJOA\"}',\n",
       " 'assistant\\n\\n{\"reasoning\": \"The last letter of \\'Christina\\' is \\'A\\', the last letter of \\'Edna\\' is \\'A\\', the last letter of \\'Ileana\\' is \\'A\\', and the last letter of \\'Lynette\\' is \\'E\\'. Therefore, the answer is \\'AAAE\\'.\", \"answer\": \"AAAE\"}',\n",
       " 'assistant\\n\\n{\"reasoning\": \"The last letter of \\'Emanuel\\' is \\'L\\', the last letter of \\'Cheyenne\\' is \\'E\\', the last letter of \\'Perez\\' is \\'Z\\', and the last letter of \\'Yvette\\' is \\'E\\'. Therefore, the answer is \\'LEZE\\'.\", \"answer\": \"LEZE\"}',\n",
       " 'assistant\\n\\n{\"reasoning\": \"The last letter of \\'Yessenia\\' is \\'A\\', the last letter of \\'Geraldine\\' is \\'E\\', the last letter of \\'Minerva\\' is \\'A\\', and the last letter of \\'Tanya\\' is \\'A\\'. Therefore, the answer is \\'AEA\\'.\", \"answer\": \"AEA\"}',\n",
       " 'assistant\\n\\n{\"reasoning\": \"The last letter of \\'Jr\\' is \\'R\\', the last letter of \\'Meredith\\' is \\'H\\', the last letter of \\'Zoe\\' is \\'E\\', and the last letter of \\'Robby\\' is \\'Y\\'. Therefore, the answer is \\'RHYE\\'.\", \"answer\": \"RHYE\"}',\n",
       " 'assistant\\n\\n{\"reasoning\": \"The last letter of \\'Michel\\' is \\'L\\', the last letter of \\'Roy\\' is \\'Y\\', the last letter of \\'Sergey\\' is \\'Y\\', and the last letter of \\'Jessie\\' is \\'E\\'. Therefore, the answer is \\'LYYE\\'.\", \"answer\": \"LYYE\"}',\n",
       " 'assistant\\n\\n{\"reasoning\": \"The last letter of \\'Noelle\\' is \\'E\\', the last letter of \\'Byron\\' is \\'N\\', the last letter of \\'Jane\\' is \\'E\\', and the last letter of \\'Darin\\' is \\'N\\'. Therefore, the answer is \\'ENE\\'.\", \"answer\": \"ENE\"}',\n",
       " 'assistant\\n\\n{\"reasoning\": \"The last letter of \\'Hayden\\' is \\'N\\', the last letter of \\'Maya\\' is \\'A\\', the last letter of \\'Zack\\' is \\'K\\', and the last letter of \\'Roberto\\' is \\'O\\'. Therefore, the answer is \\'NAKO\\'.\", \"answer\": \"NAKO\"}',\n",
       " 'assistant\\n\\n{\"reasoning\": \"The last letter of \\'Kristi\\' is \\'I\\', the last letter of \\'Eduardo\\' is \\'O\\', the last letter of \\'Angelo\\' is \\'O\\', and the last letter of \\'Clare\\' is \\'E\\'. Therefore, the answer is \\'IOOE\\'.\", \"answer\": \"IOOE\"}',\n",
       " 'assistant\\n\\n{\"reasoning\": \"The last letter of \\'Dino\\' is \\'O\\', the last letter of \\'Toby\\' is \\'Y\\', the last letter of \\'Abigail\\' is \\'L\\', and the last letter of \\'Manuela\\' is \\'A\\'. Therefore, the answer is \\'OYLA\\'.\", \"answer\": \"OYLA\"}',\n",
       " 'assistant\\n\\n{\"reasoning\": \"The last letter of \\'Ángel\\' is \\'L\\', the last letter of \\'Carlton\\' is \\'N\\', the last letter of \\'Sameer\\' is \\'R\\', and the last letter of \\'Martinez\\' is \\'Z\\'. Therefore, the answer is \\'LRNZ\\'.\", \"answer\": \"LRNZ\"}',\n",
       " 'assistant\\n\\n{\"reasoning\": \"The last letter of \\'Sterling\\' is \\'G\\', the last letter of \\'Jenifer\\' is \\'R\\', the last letter of \\'Patsy\\' is \\'Y\\', and the last letter of \\'Denise\\' is \\'E\\'. Therefore, the answer is \\'GRYE\\'.\", \"answer\": \"GRYE\"}',\n",
       " 'assistant\\n\\n{\"reasoning\": \"The last letter of \\'Ashish\\' is \\'H\\', the last letter of \\'Tracey\\' is \\'Y\\', the last letter of \\'Varun\\' is \\'N\\', and the last letter of \\'Emil\\' is \\'L\\'. Therefore, the answer is \\'HYNL\\'.\", \"answer\": \"HYNL\"}',\n",
       " 'assistant\\n\\n{\"reasoning\": \"The last letter of \\'Isaac\\' is \\'C\\', the last letter of \\'Reyes\\' is \\'S\\', the last letter of \\'Carly\\' is \\'Y\\', and the last letter of \\'Tania\\' is \\'A\\'. Therefore, the answer is \\'CSYA\\'.\", \"answer\": \"CSYA\"}']"
      ]
     },
     "execution_count": 9,
     "metadata": {},
     "output_type": "execute_result"
    }
   ],
   "source": [
    "unstruct_resp"
   ]
  },
  {
   "cell_type": "code",
   "execution_count": 10,
   "id": "bf801aec-3dd4-4d92-ae5a-c1e6ffe909af",
   "metadata": {
    "execution": {
     "iopub.execute_input": "2024-11-19T22:46:01.300686Z",
     "iopub.status.busy": "2024-11-19T22:46:01.300596Z",
     "iopub.status.idle": "2024-11-19T22:46:01.303541Z",
     "shell.execute_reply": "2024-11-19T22:46:01.303030Z",
     "shell.execute_reply.started": "2024-11-19T22:46:01.300677Z"
    }
   },
   "outputs": [
    {
     "name": "stdout",
     "output_type": "stream",
     "text": [
      "0.7333333333333333\n"
     ]
    }
   ],
   "source": [
    "unstruct_resp_answer = [result[1].lower() if result else \"\" for result in [re.search(answer_regex,resp) for resp in unstruct_resp]]\n",
    "unstruct_resp_score = np.mean([result[0] == result[1] for result in zip(unstruct_resp_answer, answers)])\n",
    "print(unstruct_resp_score)"
   ]
  },
  {
   "cell_type": "markdown",
   "id": "fa56cf27-ac7b-49fe-93a6-b37743e6b340",
   "metadata": {},
   "source": [
    "## Structured Generation"
   ]
  },
  {
   "cell_type": "code",
   "execution_count": 11,
   "id": "39e98754-ca27-46a4-a81d-7be5b7a7e092",
   "metadata": {
    "execution": {
     "iopub.execute_input": "2024-11-19T22:46:01.304239Z",
     "iopub.status.busy": "2024-11-19T22:46:01.304145Z",
     "iopub.status.idle": "2024-11-19T22:46:01.333619Z",
     "shell.execute_reply": "2024-11-19T22:46:01.333021Z",
     "shell.execute_reply.started": "2024-11-19T22:46:01.304229Z"
    }
   },
   "outputs": [],
   "source": [
    "from pydantic import BaseModel, Field, constr\n",
    "\n",
    "\n",
    "class Response(BaseModel):\n",
    "    reasoning: constr(max_length=300)\n",
    "    answer: str = Field(pattern=r'[A-Za-z]{4}')"
   ]
  },
  {
   "cell_type": "markdown",
   "id": "16e206ca-56ad-48bd-a23d-a9e52a252a53",
   "metadata": {},
   "source": [
    "Check that the regex used for generation is in the prompt itself"
   ]
  },
  {
   "cell_type": "code",
   "execution_count": 12,
   "id": "f5ff15ab-c7a9-4d14-a73b-5aa4964fca1e",
   "metadata": {
    "execution": {
     "iopub.execute_input": "2024-11-19T22:46:01.334454Z",
     "iopub.status.busy": "2024-11-19T22:46:01.334310Z",
     "iopub.status.idle": "2024-11-19T22:46:01.341687Z",
     "shell.execute_reply": "2024-11-19T22:46:01.341307Z",
     "shell.execute_reply.started": "2024-11-19T22:46:01.334443Z"
    }
   },
   "outputs": [
    {
     "data": {
      "text/plain": [
       "<re.Match object; span=(658, 871), match='{\"reasoning\": \"The last letter of \\'Ian\\' is \\'N\\>"
      ]
     },
     "execution_count": 12,
     "metadata": {},
     "output_type": "execute_result"
    }
   ],
   "source": [
    "from outlines.fsm.json_schema import build_regex_from_schema\n",
    "schema_regex = build_regex_from_schema(Response.schema_json())\n",
    "\n",
    "example_prompt = create_prompt(all_evals[5]['question'], tokenizer)\n",
    "re.search(schema_regex, example_prompt)"
   ]
  },
  {
   "cell_type": "code",
   "execution_count": 13,
   "id": "25a618e3-da27-4b23-862d-3f4dc7d4fb20",
   "metadata": {
    "execution": {
     "iopub.execute_input": "2024-11-19T22:46:01.342351Z",
     "iopub.status.busy": "2024-11-19T22:46:01.342234Z",
     "iopub.status.idle": "2024-11-19T22:46:06.453619Z",
     "shell.execute_reply": "2024-11-19T22:46:06.453222Z",
     "shell.execute_reply.started": "2024-11-19T22:46:01.342338Z"
    }
   },
   "outputs": [],
   "source": [
    "struct_gen = outlines.generate.regex(model, schema_regex, sampler=greedy())"
   ]
  },
  {
   "cell_type": "code",
   "execution_count": 14,
   "id": "d887d59d-7500-486f-a149-203761591daa",
   "metadata": {
    "execution": {
     "iopub.execute_input": "2024-11-19T22:46:06.454222Z",
     "iopub.status.busy": "2024-11-19T22:46:06.454127Z",
     "iopub.status.idle": "2024-11-19T23:02:00.511001Z",
     "shell.execute_reply": "2024-11-19T23:02:00.510650Z",
     "shell.execute_reply.started": "2024-11-19T22:46:06.454212Z"
    }
   },
   "outputs": [],
   "source": [
    "struct_resp = [struct_gen(create_prompt(all_evals[i]['question'], tokenizer)) for i in range(LAST)]"
   ]
  },
  {
   "cell_type": "code",
   "execution_count": 15,
   "id": "50421508-3b3b-47fc-8374-fb6fa62e781a",
   "metadata": {
    "execution": {
     "iopub.execute_input": "2024-11-19T23:02:00.511554Z",
     "iopub.status.busy": "2024-11-19T23:02:00.511449Z",
     "iopub.status.idle": "2024-11-19T23:02:00.514132Z",
     "shell.execute_reply": "2024-11-19T23:02:00.513868Z",
     "shell.execute_reply.started": "2024-11-19T23:02:00.511543Z"
    }
   },
   "outputs": [
    {
     "name": "stdout",
     "output_type": "stream",
     "text": [
      "0.7733333333333333\n"
     ]
    }
   ],
   "source": [
    "struct_resp_answer = [result[1].lower() if result else \"\" for result in [re.search(answer_regex,resp) for resp in struct_resp]]\n",
    "struct_resp_score = np.mean([result[0] == result[1] for result in zip(struct_resp_answer, answers)])\n",
    "print(struct_resp_score)"
   ]
  }
 ],
 "metadata": {
  "kernelspec": {
   "display_name": "Python 3 (ipykernel)",
   "language": "python",
   "name": "python3"
  },
  "language_info": {
   "codemirror_mode": {
    "name": "ipython",
    "version": 3
   },
   "file_extension": ".py",
   "mimetype": "text/x-python",
   "name": "python",
   "nbconvert_exporter": "python",
   "pygments_lexer": "ipython3",
   "version": "3.10.0"
  }
 },
 "nbformat": 4,
 "nbformat_minor": 5
}
