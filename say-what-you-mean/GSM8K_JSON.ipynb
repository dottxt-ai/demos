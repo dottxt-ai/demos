{
 "cells": [
  {
   "cell_type": "markdown",
   "id": "49f3249d-4467-4b0f-8d0c-52c6a0139560",
   "metadata": {},
   "source": [
    "## GSM8K\n",
    "\n",
    "This notebook reproduces the results for the GSM8K evaluations"
   ]
  },
  {
   "cell_type": "code",
   "execution_count": 1,
   "id": "33194d54-582b-4b81-a195-8f1269a438a7",
   "metadata": {
    "execution": {
     "iopub.execute_input": "2024-11-17T20:37:59.673511Z",
     "iopub.status.busy": "2024-11-17T20:37:59.673328Z",
     "iopub.status.idle": "2024-11-17T20:38:07.222035Z",
     "shell.execute_reply": "2024-11-17T20:38:07.221730Z",
     "shell.execute_reply.started": "2024-11-17T20:37:59.673491Z"
    }
   },
   "outputs": [
    {
     "name": "stdout",
     "output_type": "stream",
     "text": [
      "DatasetDict({\n",
      "    train: Dataset({\n",
      "        features: ['question', 'answer'],\n",
      "        num_rows: 7473\n",
      "    })\n",
      "    test: Dataset({\n",
      "        features: ['question', 'answer'],\n",
      "        num_rows: 1319\n",
      "    })\n",
      "})\n"
     ]
    }
   ],
   "source": [
    "import json\n",
    "import outlines\n",
    "import torch\n",
    "from transformers import AutoTokenizer\n",
    "from textwrap import dedent\n",
    "from datasets import load_dataset\n",
    "import re\n",
    "from outlines.samplers import greedy\n",
    "\n",
    "MODEL_NAME = \"meta-llama/Meta-Llama-3-8B-Instruct\"\n",
    "# Load the dataset from HuggingFace\n",
    "dataset = load_dataset(\"gsm8k\", \"main\")\n",
    "# You can inspect the dataset structure\n",
    "print(dataset)"
   ]
  },
  {
   "cell_type": "code",
   "execution_count": 2,
   "id": "b196b250-d8a6-40ac-b2be-66014ca2548a",
   "metadata": {
    "execution": {
     "iopub.execute_input": "2024-11-17T20:38:07.222553Z",
     "iopub.status.busy": "2024-11-17T20:38:07.222420Z",
     "iopub.status.idle": "2024-11-17T20:38:07.225813Z",
     "shell.execute_reply": "2024-11-17T20:38:07.225568Z",
     "shell.execute_reply.started": "2024-11-17T20:38:07.222543Z"
    }
   },
   "outputs": [
    {
     "data": {
      "text/plain": [
       "Dataset({\n",
       "    features: ['question', 'answer'],\n",
       "    num_rows: 7473\n",
       "})"
      ]
     },
     "execution_count": 2,
     "metadata": {},
     "output_type": "execute_result"
    }
   ],
   "source": [
    "dataset['train']"
   ]
  },
  {
   "cell_type": "code",
   "execution_count": 3,
   "id": "31a054b5-3aba-4875-9bd1-a8dd54252934",
   "metadata": {
    "execution": {
     "iopub.execute_input": "2024-11-17T20:38:07.226286Z",
     "iopub.status.busy": "2024-11-17T20:38:07.226190Z",
     "iopub.status.idle": "2024-11-17T20:38:07.239672Z",
     "shell.execute_reply": "2024-11-17T20:38:07.239396Z",
     "shell.execute_reply.started": "2024-11-17T20:38:07.226277Z"
    }
   },
   "outputs": [],
   "source": [
    "all_evals = list(dataset['test'])"
   ]
  },
  {
   "cell_type": "code",
   "execution_count": 4,
   "id": "95958a3a-7357-4181-b0b8-33771c286626",
   "metadata": {
    "execution": {
     "iopub.execute_input": "2024-11-17T20:38:07.240099Z",
     "iopub.status.busy": "2024-11-17T20:38:07.240020Z",
     "iopub.status.idle": "2024-11-17T20:38:34.798420Z",
     "shell.execute_reply": "2024-11-17T20:38:34.798098Z",
     "shell.execute_reply.started": "2024-11-17T20:38:07.240090Z"
    }
   },
   "outputs": [
    {
     "data": {
      "application/vnd.jupyter.widget-view+json": {
       "model_id": "d9bd137dc8e148849a97c243b71fe2df",
       "version_major": 2,
       "version_minor": 0
      },
      "text/plain": [
       "Loading checkpoint shards:   0%|          | 0/4 [00:00<?, ?it/s]"
      ]
     },
     "metadata": {},
     "output_type": "display_data"
    }
   ],
   "source": [
    "model = outlines.models.transformers(\n",
    "    MODEL_NAME,\n",
    "    device='mps',\n",
    "    model_kwargs={\n",
    "        'torch_dtype': torch.bfloat16,\n",
    "        'trust_remote_code': True\n",
    "    })\n",
    "\n",
    "tokenizer = AutoTokenizer.from_pretrained(MODEL_NAME)"
   ]
  },
  {
   "cell_type": "code",
   "execution_count": 5,
   "id": "531655e1-b4a3-4d83-8d22-be34d7667b64",
   "metadata": {
    "execution": {
     "iopub.execute_input": "2024-11-17T20:38:34.799082Z",
     "iopub.status.busy": "2024-11-17T20:38:34.798903Z",
     "iopub.status.idle": "2024-11-17T20:38:34.800913Z",
     "shell.execute_reply": "2024-11-17T20:38:34.800585Z",
     "shell.execute_reply.started": "2024-11-17T20:38:34.799072Z"
    }
   },
   "outputs": [],
   "source": [
    "example_question = [\n",
    "    \"There are 15 trees in the grove. Grove workers will plant trees in the grove today. After they are done, there will be 21 trees. How many trees did the grove workers plant today?\",\n",
    "    \"If there are 3 cars in the parking lot and 2 more cars arrive, how many cars are in the parking lot?\",\n",
    "    \"Leah had 32 chocolates and her sister had 42. If they ate 35, how many pieces do they have left in total?\"\n",
    "]"
   ]
  },
  {
   "cell_type": "code",
   "execution_count": 6,
   "id": "1a9ee758-437a-4fa2-b622-a0fe0423600e",
   "metadata": {
    "execution": {
     "iopub.execute_input": "2024-11-17T20:38:34.802727Z",
     "iopub.status.busy": "2024-11-17T20:38:34.802647Z",
     "iopub.status.idle": "2024-11-17T20:38:34.804407Z",
     "shell.execute_reply": "2024-11-17T20:38:34.804152Z",
     "shell.execute_reply.started": "2024-11-17T20:38:34.802719Z"
    }
   },
   "outputs": [],
   "source": [
    "example_response = [\n",
    "    \"\"\"{\"reasoning\": \"There are 15 trees originally. Then there were 21 trees after some more were planted. So there must have been 21 - 15 = 6.\", \"answer\": 6}\"\"\",\n",
    "    \"\"\"{\"reasoning\": \"There are originally 3 cars. 2 more cars arrive. 3 + 2 = 5.\", \"answer\": 5}\"\"\",\n",
    "    \"\"\"{\"reasoning\": \"Originally, Leah had 32 chocolates. Her sister had 42. So in total they had 32 + 42 = 74. After eating 35, they had 74 - 35 = 39.\",\"answer\": 39\"\"\"\n",
    "]\n"
   ]
  },
  {
   "cell_type": "code",
   "execution_count": 7,
   "id": "3cf91462-e609-4bc7-9768-847621f01ab0",
   "metadata": {
    "execution": {
     "iopub.execute_input": "2024-11-17T20:38:34.804939Z",
     "iopub.status.busy": "2024-11-17T20:38:34.804817Z",
     "iopub.status.idle": "2024-11-17T20:38:34.811325Z",
     "shell.execute_reply": "2024-11-17T20:38:34.811053Z",
     "shell.execute_reply.started": "2024-11-17T20:38:34.804930Z"
    }
   },
   "outputs": [
    {
     "name": "stdout",
     "output_type": "stream",
     "text": [
      "<|begin_of_text|><|start_header_id|>system<|end_header_id|>\n",
      "\n",
      "You are an expert in solving grade school math tasks. You will be presented with a grade-school math word problem and be asked to solve it.\n",
      "Before answering you should reason about the problem (using the \"reasoning\" field in the JSON response described below).\n",
      "\n",
      "You will always repond with JSON in the format described below:\n",
      "\n",
      "{\"reasoning\": <reasoning about the answer>, \"answer\": <final answer>}\n",
      "\n",
      "The \"reasoning\" field will contain your reasoning about the sequence of events, and the \"answer\" will contain the single letter representing the correct choice you are presented with.<|eot_id|><|start_header_id|>user<|end_header_id|>\n",
      "\n",
      "Question: There are 15 trees in the grove. Grove workers will plant trees in the grove today. After they are done, there will be 21 trees. How many trees did the grove workers plant today?<|eot_id|><|start_header_id|>assistant<|end_header_id|>\n",
      "\n",
      "{\"reasoning\": \"There are 15 trees originally. Then there were 21 trees after some more were planted. So there must have been 21 - 15 = 6.\", \"answer\": 6}<|eot_id|><|start_header_id|>user<|end_header_id|>\n",
      "\n",
      "Question: If there are 3 cars in the parking lot and 2 more cars arrive, how many cars are in the parking lot?<|eot_id|><|start_header_id|>assistant<|end_header_id|>\n",
      "\n",
      "{\"reasoning\": \"There are originally 3 cars. 2 more cars arrive. 3 + 2 = 5.\", \"answer\": 5}<|eot_id|><|start_header_id|>user<|end_header_id|>\n",
      "\n",
      "Question: Leah had 32 chocolates and her sister had 42. If they ate 35, how many pieces do they have left in total?<|eot_id|><|start_header_id|>assistant<|end_header_id|>\n",
      "\n",
      "{\"reasoning\": \"Originally, Leah had 32 chocolates. Her sister had 42. So in total they had 32 + 42 = 74. After eating 35, they had 74 - 35 = 39.\",\"answer\": 39<|eot_id|><|start_header_id|>user<|end_header_id|>\n",
      "\n",
      "Question: Kylar went to the store to buy glasses for his new apartment. One glass costs $5, but every second glass costs only 60% of the price. Kylar wants to buy 16 glasses. How much does he need to pay for them?\",<|eot_id|><|start_header_id|>assistant<|end_header_id|>\n",
      "\n",
      "<|eot_id|>\n"
     ]
    }
   ],
   "source": [
    "def create_prompt(question, tokenizer):\n",
    "    messages = [\n",
    "        {\n",
    "            \"role\": \"system\",\n",
    "            \"content\": dedent(\"\"\"\n",
    "            You are an expert in solving grade school math tasks. You will be presented with a grade-school math word problem and be asked to solve it.\n",
    "            Before answering you should reason about the problem (using the \"reasoning\" field in the JSON response described below).\n",
    "              \n",
    "            You will always repond with JSON in the format described below:\n",
    "            \n",
    "            {\"reasoning\": <reasoning about the answer>, \"answer\": <final answer>}\n",
    "\n",
    "            The \"reasoning\" field will contain your reasoning about the sequence of events, and the \"answer\" will contain the single letter representing the correct choice you are presented with.\n",
    "            \"\"\")\n",
    "        },]\n",
    "    for i in range(len(example_question)):\n",
    "        messages.append(\n",
    "        {\n",
    "            \"role\": \"user\",\n",
    "            \"content\": \"\"\"Question: {question}\"\"\".format(question=example_question[i])\n",
    "        }\n",
    "        )\n",
    "        messages.append(\n",
    "        {\n",
    "            \"role\": \"assistant\",\n",
    "            \"content\": example_response[i]        \n",
    "        })\n",
    "    messages.append(\n",
    "        {\n",
    "            \"role\": \"user\",\n",
    "            \"content\": \"\"\"Question: {question}\", \"\"\".format(question=question)\n",
    "        })\n",
    "    messages.append(\n",
    "        {\n",
    "            \"role\": \"assistant\",\n",
    "            \"content\": \"\"\n",
    "        }\n",
    "    )\n",
    "    return tokenizer.apply_chat_template(messages, tokenize=False)\n",
    "\n",
    "print(create_prompt(all_evals[5]['question'], tokenizer))"
   ]
  },
  {
   "cell_type": "code",
   "execution_count": 8,
   "id": "82efc86d-08ea-45d7-a3d4-efe84135f7aa",
   "metadata": {
    "execution": {
     "iopub.execute_input": "2024-11-17T20:38:34.811804Z",
     "iopub.status.busy": "2024-11-17T20:38:34.811721Z",
     "iopub.status.idle": "2024-11-17T20:38:34.840213Z",
     "shell.execute_reply": "2024-11-17T20:38:34.839918Z",
     "shell.execute_reply.started": "2024-11-17T20:38:34.811795Z"
    }
   },
   "outputs": [],
   "source": [
    "from pydantic import BaseModel, Field, constr\n",
    "from outlines.fsm.json_schema import build_regex_from_schema\n",
    "\n",
    "class Response(BaseModel):\n",
    "    reasoning: constr(max_length=1000)\n",
    "    answer: int = Field(pattern=r'[1-9][0-9]{0,9}')\n",
    "\n",
    "\n",
    "schema_regex = build_regex_from_schema(Response.schema_json())"
   ]
  },
  {
   "cell_type": "code",
   "execution_count": 9,
   "id": "7dd5ef47-38a5-48e2-8ccb-1f69f5226700",
   "metadata": {
    "execution": {
     "iopub.execute_input": "2024-11-17T20:38:34.840626Z",
     "iopub.status.busy": "2024-11-17T20:38:34.840541Z",
     "iopub.status.idle": "2024-11-17T20:38:34.843091Z",
     "shell.execute_reply": "2024-11-17T20:38:34.842774Z",
     "shell.execute_reply.started": "2024-11-17T20:38:34.840616Z"
    }
   },
   "outputs": [
    {
     "data": {
      "text/plain": [
       "'Kylar went to the store to buy glasses for his new apartment. One glass costs $5, but every second glass costs only 60% of the price. Kylar wants to buy 16 glasses. How much does he need to pay for them?'"
      ]
     },
     "execution_count": 9,
     "metadata": {},
     "output_type": "execute_result"
    }
   ],
   "source": [
    "all_evals[5]['question']"
   ]
  },
  {
   "cell_type": "code",
   "execution_count": 10,
   "id": "1fce2d5a-1d3d-4ea5-aa9c-0204548fbf75",
   "metadata": {
    "execution": {
     "iopub.execute_input": "2024-11-17T20:38:34.843557Z",
     "iopub.status.busy": "2024-11-17T20:38:34.843470Z",
     "iopub.status.idle": "2024-11-17T20:38:34.845198Z",
     "shell.execute_reply": "2024-11-17T20:38:34.844958Z",
     "shell.execute_reply.started": "2024-11-17T20:38:34.843549Z"
    }
   },
   "outputs": [],
   "source": [
    "open_generator = outlines.generate.text(model, sampler=greedy())"
   ]
  },
  {
   "cell_type": "code",
   "execution_count": 11,
   "id": "54a68fb7-e641-4ec3-a1ae-dcfbbe28411f",
   "metadata": {
    "execution": {
     "iopub.execute_input": "2024-11-17T20:38:34.845832Z",
     "iopub.status.busy": "2024-11-17T20:38:34.845722Z",
     "iopub.status.idle": "2024-11-17T20:38:50.005468Z",
     "shell.execute_reply": "2024-11-17T20:38:50.005175Z",
     "shell.execute_reply.started": "2024-11-17T20:38:34.845823Z"
    }
   },
   "outputs": [
    {
     "name": "stderr",
     "output_type": "stream",
     "text": [
      "/Users/willkurt/miniconda3/envs/dottxt-ai/lib/python3.10/site-packages/transformers/generation/configuration_utils.py:590: UserWarning: `do_sample` is set to `False`. However, `temperature` is set to `0.0` -- this flag is only used in sample-based generation modes. You should set `do_sample=True` or unset `temperature`. This was detected when initializing the generation config instance, which means the corresponding file may hold incorrect parameterization and should be fixed.\n",
      "  warnings.warn(\n",
      "/Users/willkurt/miniconda3/envs/dottxt-ai/lib/python3.10/site-packages/transformers/generation/configuration_utils.py:590: UserWarning: `do_sample` is set to `False`. However, `temperature` is set to `0.0` -- this flag is only used in sample-based generation modes. You should set `do_sample=True` or unset `temperature`.\n",
      "  warnings.warn(\n"
     ]
    },
    {
     "data": {
      "text/plain": [
       "'assistant\\n\\n{\"reasoning\": \"Kylar wants to buy 16 glasses. The first glass costs $5, so the cost of the first glass is $5. The second glass costs 60% of $5, which is 0.6 x $5 = $3. The cost of the third glass is $5 again, and so on. So, the cost of the first, third, fifth,... glasses is $5 each, and the cost of the second, fourth, sixth,... glasses is $3 each. There are 8 glasses of each type, so the total cost is (8 x $5) + (8 x $3) = $40 + $24 = $64.\", \"answer\": 64}'"
      ]
     },
     "execution_count": 11,
     "metadata": {},
     "output_type": "execute_result"
    }
   ],
   "source": [
    "open_generator(create_prompt(all_evals[5]['question'], tokenizer),max_tokens=256)"
   ]
  },
  {
   "cell_type": "code",
   "execution_count": 12,
   "id": "49a1e80d-ebf5-480f-b27f-0575573d1ac7",
   "metadata": {
    "execution": {
     "iopub.execute_input": "2024-11-17T20:38:50.005984Z",
     "iopub.status.busy": "2024-11-17T20:38:50.005887Z",
     "iopub.status.idle": "2024-11-17T20:38:50.008727Z",
     "shell.execute_reply": "2024-11-17T20:38:50.008436Z",
     "shell.execute_reply.started": "2024-11-17T20:38:50.005974Z"
    }
   },
   "outputs": [
    {
     "data": {
      "text/plain": [
       "<re.Match object; span=(939, 1091), match='{\"reasoning\": \"There are 15 trees originally. The>"
      ]
     },
     "execution_count": 12,
     "metadata": {},
     "output_type": "execute_result"
    }
   ],
   "source": [
    "re.search(schema_regex, create_prompt(all_evals[5]['question'], tokenizer))"
   ]
  },
  {
   "cell_type": "code",
   "execution_count": 1,
   "id": "1dba3852-ff42-4738-8553-732bca616e44",
   "metadata": {
    "execution": {
     "iopub.execute_input": "2024-11-20T03:52:26.438145Z",
     "iopub.status.busy": "2024-11-20T03:52:26.437887Z",
     "iopub.status.idle": "2024-11-20T03:52:26.440452Z",
     "shell.execute_reply": "2024-11-20T03:52:26.440068Z",
     "shell.execute_reply.started": "2024-11-20T03:52:26.438122Z"
    }
   },
   "outputs": [],
   "source": [
    "## Unstructured Generation"
   ]
  },
  {
   "cell_type": "code",
   "execution_count": 13,
   "id": "a8a091ce-b273-44bc-9d7f-23de8cbdb8de",
   "metadata": {
    "execution": {
     "iopub.execute_input": "2024-11-17T20:38:50.009181Z",
     "iopub.status.busy": "2024-11-17T20:38:50.009092Z",
     "iopub.status.idle": "2024-11-17T20:38:50.012535Z",
     "shell.execute_reply": "2024-11-17T20:38:50.012229Z",
     "shell.execute_reply.started": "2024-11-17T20:38:50.009172Z"
    }
   },
   "outputs": [],
   "source": [
    "LAST = len(all_evals)\n",
    "answer_regex = r'\"answer\":[ ]?([1-9][0-9]{0,9})'\n",
    "answers = []\n",
    "for ex_eval in all_evals[0:LAST]:\n",
    "    raw_int = ex_eval['answer'].split('#### ')[1]\n",
    "    raw_int = re.sub(\",\",\"\",raw_int)\n",
    "    answers.append(int(raw_int))"
   ]
  },
  {
   "cell_type": "code",
   "execution_count": 14,
   "id": "561a5625-62d4-4264-b3e0-17b63135fe6e",
   "metadata": {
    "execution": {
     "iopub.execute_input": "2024-11-17T20:38:50.012938Z",
     "iopub.status.busy": "2024-11-17T20:38:50.012852Z",
     "iopub.status.idle": "2024-11-18T00:38:47.733818Z",
     "shell.execute_reply": "2024-11-18T00:38:47.733463Z",
     "shell.execute_reply.started": "2024-11-17T20:38:50.012928Z"
    }
   },
   "outputs": [],
   "source": [
    "free_resp = [open_generator(create_prompt(all_evals[i]['question'], tokenizer), max_tokens=256) for i in range(LAST)]"
   ]
  },
  {
   "cell_type": "code",
   "execution_count": 15,
   "id": "9d2ec11e-287b-4553-b276-8e5efcec42ec",
   "metadata": {
    "execution": {
     "iopub.execute_input": "2024-11-18T00:38:47.734391Z",
     "iopub.status.busy": "2024-11-18T00:38:47.734289Z",
     "iopub.status.idle": "2024-11-18T00:38:47.736819Z",
     "shell.execute_reply": "2024-11-18T00:38:47.736582Z",
     "shell.execute_reply.started": "2024-11-18T00:38:47.734381Z"
    }
   },
   "outputs": [
    {
     "data": {
      "text/plain": [
       "'assistant\\n\\n{\"reasoning\": \"James runs 3 sprints 3 times a week. So he runs 3 x 3 = 9 sprints a week. Each sprint is 60 meters, so he runs 9 x 60 = 540 meters a week.\", \"answer\": 540}'"
      ]
     },
     "execution_count": 15,
     "metadata": {},
     "output_type": "execute_result"
    }
   ],
   "source": [
    "free_resp[3]"
   ]
  },
  {
   "cell_type": "code",
   "execution_count": 16,
   "id": "f978b4a4-8c4e-4e2b-97dc-0ce52ece58ee",
   "metadata": {
    "execution": {
     "iopub.execute_input": "2024-11-18T00:38:47.737338Z",
     "iopub.status.busy": "2024-11-18T00:38:47.737234Z",
     "iopub.status.idle": "2024-11-18T00:38:47.740245Z",
     "shell.execute_reply": "2024-11-18T00:38:47.740013Z",
     "shell.execute_reply.started": "2024-11-18T00:38:47.737327Z"
    }
   },
   "outputs": [],
   "source": [
    "free_resp_answers = [int(result[1].upper()) if result else \"\" for result in [re.search(answer_regex,resp) for resp in free_resp]]"
   ]
  },
  {
   "cell_type": "code",
   "execution_count": 17,
   "id": "b8e653f0-6766-4d2f-9553-d48e2ff74d20",
   "metadata": {
    "execution": {
     "iopub.execute_input": "2024-11-18T00:38:47.740737Z",
     "iopub.status.busy": "2024-11-18T00:38:47.740637Z",
     "iopub.status.idle": "2024-11-18T00:38:47.743262Z",
     "shell.execute_reply": "2024-11-18T00:38:47.743004Z",
     "shell.execute_reply.started": "2024-11-18T00:38:47.740727Z"
    }
   },
   "outputs": [
    {
     "data": {
      "text/plain": [
       "0.7717968157695224"
      ]
     },
     "execution_count": 17,
     "metadata": {},
     "output_type": "execute_result"
    }
   ],
   "source": [
    "import numpy as np\n",
    "np.mean([result[0] == result[1] for result in zip(free_resp_answers, answers)])"
   ]
  },
  {
   "cell_type": "markdown",
   "id": "afd59003-de09-4aa6-bfe5-1a8c0bf6474f",
   "metadata": {
    "execution": {
     "iopub.execute_input": "2024-11-01T19:17:29.562865Z",
     "iopub.status.busy": "2024-11-01T19:17:29.561917Z",
     "iopub.status.idle": "2024-11-01T19:17:29.570077Z",
     "shell.execute_reply": "2024-11-01T19:17:29.568594Z",
     "shell.execute_reply.started": "2024-11-01T19:17:29.562778Z"
    }
   },
   "source": [
    "## Structured Generation"
   ]
  },
  {
   "cell_type": "code",
   "execution_count": 18,
   "id": "96a0ee0b-1790-4726-8497-9be11780bd4e",
   "metadata": {
    "execution": {
     "iopub.execute_input": "2024-11-18T00:38:47.743721Z",
     "iopub.status.busy": "2024-11-18T00:38:47.743625Z",
     "iopub.status.idle": "2024-11-18T00:41:08.828354Z",
     "shell.execute_reply": "2024-11-18T00:41:08.828013Z",
     "shell.execute_reply.started": "2024-11-18T00:38:47.743712Z"
    }
   },
   "outputs": [],
   "source": [
    "structured_generator = outlines.generate.regex(model, schema_regex, sampler=greedy())"
   ]
  },
  {
   "cell_type": "code",
   "execution_count": 19,
   "id": "c8f7601b-2490-42a0-851a-8be166ecc547",
   "metadata": {
    "execution": {
     "iopub.execute_input": "2024-11-18T00:41:08.828912Z",
     "iopub.status.busy": "2024-11-18T00:41:08.828801Z",
     "iopub.status.idle": "2024-11-18T04:42:49.767683Z",
     "shell.execute_reply": "2024-11-18T04:42:49.767347Z",
     "shell.execute_reply.started": "2024-11-18T00:41:08.828901Z"
    }
   },
   "outputs": [],
   "source": [
    "structured_resp = [structured_generator(create_prompt(all_evals[i]['question'], tokenizer)) for i in range(LAST)]"
   ]
  },
  {
   "cell_type": "code",
   "execution_count": 20,
   "id": "d5e4048b-94c0-40de-9c7b-fa689cc4834f",
   "metadata": {
    "execution": {
     "iopub.execute_input": "2024-11-18T04:42:49.768238Z",
     "iopub.status.busy": "2024-11-18T04:42:49.768127Z",
     "iopub.status.idle": "2024-11-18T04:42:49.770647Z",
     "shell.execute_reply": "2024-11-18T04:42:49.770382Z",
     "shell.execute_reply.started": "2024-11-18T04:42:49.768228Z"
    }
   },
   "outputs": [
    {
     "data": {
      "text/plain": [
       "'{\"reasoning\": \"James runs 3 sprints 3 times a week. So he runs 3 x 3 = 9 sprints a week. Each sprint is 60 meters, so he runs 9 x 60 = 540 meters a week.\", \"answer\": 540}'"
      ]
     },
     "execution_count": 20,
     "metadata": {},
     "output_type": "execute_result"
    }
   ],
   "source": [
    "structured_resp[3]"
   ]
  },
  {
   "cell_type": "code",
   "execution_count": 21,
   "id": "134d296e-19b1-41ea-b2b4-33bcea8d0a2d",
   "metadata": {
    "execution": {
     "iopub.execute_input": "2024-11-18T04:42:49.773538Z",
     "iopub.status.busy": "2024-11-18T04:42:49.773439Z",
     "iopub.status.idle": "2024-11-18T04:42:49.776348Z",
     "shell.execute_reply": "2024-11-18T04:42:49.776113Z",
     "shell.execute_reply.started": "2024-11-18T04:42:49.773529Z"
    }
   },
   "outputs": [],
   "source": [
    "structured_resp_answers = [int(result[1].upper()) if result else \"\" for result in [re.search(answer_regex,resp) for resp in structured_resp]]"
   ]
  },
  {
   "cell_type": "code",
   "execution_count": 22,
   "id": "6226335d-c3f0-42ef-86f7-de1ab8911bac",
   "metadata": {
    "execution": {
     "iopub.execute_input": "2024-11-18T04:42:49.776846Z",
     "iopub.status.busy": "2024-11-18T04:42:49.776694Z",
     "iopub.status.idle": "2024-11-18T04:42:49.779349Z",
     "shell.execute_reply": "2024-11-18T04:42:49.779127Z",
     "shell.execute_reply.started": "2024-11-18T04:42:49.776835Z"
    }
   },
   "outputs": [
    {
     "data": {
      "text/plain": [
       "0.7778620166793025"
      ]
     },
     "execution_count": 22,
     "metadata": {},
     "output_type": "execute_result"
    }
   ],
   "source": [
    "import numpy as np\n",
    "np.mean([result[0] == result[1] for result in zip(structured_resp_answers, answers)])"
   ]
  },
  {
   "cell_type": "code",
   "execution_count": 23,
   "id": "d29f80e9-0438-47d6-b446-f54744524cad",
   "metadata": {
    "execution": {
     "iopub.execute_input": "2024-11-18T04:42:49.779823Z",
     "iopub.status.busy": "2024-11-18T04:42:49.779732Z",
     "iopub.status.idle": "2024-11-18T04:42:50.123997Z",
     "shell.execute_reply": "2024-11-18T04:42:50.121161Z",
     "shell.execute_reply.started": "2024-11-18T04:42:49.779815Z"
    }
   },
   "outputs": [
    {
     "data": {
      "text/plain": [
       "Text(0.5, 1.0, 'GSM8K - Unstructured vs. JSON Structured\\nmeta-llama/Meta-Llama-3-8B-Instruct')"
      ]
     },
     "execution_count": 23,
     "metadata": {},
     "output_type": "execute_result"
    },
    {
     "data": {
      "image/png": "[encoded data removed]",
      "text/plain": [
       "<Figure size 1000x800 with 1 Axes>"
      ]
     },
     "metadata": {},
     "output_type": "display_data"
    }
   ],
   "source": [
    "import matplotlib.pyplot as plt\n",
    "fig, ax = plt.subplots(1,figsize=(10,8),facecolor='white')\n",
    "ax.bar('unstructured',np.mean([result[0] == result[1] for result in zip(free_resp_answers, answers)]),label='unstructured')\n",
    "ax.bar('structured',np.mean([result[0] == result[1] for result in zip(structured_resp_answers, answers)]),label='structured')\n",
    "ax.legend(loc=\"lower right\")\n",
    "ax.set_title(f\"GSM8K - Unstructured vs. JSON Structured\\n{MODEL_NAME}\")"
   ]
  },
  {
   "cell_type": "code",
   "execution_count": null,
   "id": "6f4d8cd1-8481-47bc-84d6-f6f7971b4c06",
   "metadata": {},
   "outputs": [],
   "source": []
  }
 ],
 "metadata": {
  "kernelspec": {
   "display_name": "Python 3 (ipykernel)",
   "language": "python",
   "name": "python3"
  },
  "language_info": {
   "codemirror_mode": {
    "name": "ipython",
    "version": 3
   },
   "file_extension": ".py",
   "mimetype": "text/x-python",
   "name": "python",
   "nbconvert_exporter": "python",
   "pygments_lexer": "ipython3",
   "version": "3.10.0"
  }
 },
 "nbformat": 4,
 "nbformat_minor": 5
}
