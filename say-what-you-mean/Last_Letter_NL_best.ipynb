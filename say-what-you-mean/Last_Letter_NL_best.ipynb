{
 "cells": [
  {
   "cell_type": "markdown",
   "id": "9e8158f2-297c-4ac6-8a39-3d5a73101058",
   "metadata": {
    "execution": {
     "iopub.execute_input": "2024-10-29T18:19:31.856147Z",
     "iopub.status.busy": "2024-10-29T18:19:31.855742Z",
     "iopub.status.idle": "2024-10-29T18:19:31.866192Z",
     "shell.execute_reply": "2024-10-29T18:19:31.864462Z",
     "shell.execute_reply.started": "2024-10-29T18:19:31.856119Z"
    }
   },
   "source": [
    "## Last letter NL evaluation\n",
    "\n",
    "This notebook covers reproducing the \"AI Parser\" section of the article. Note the template file has been modified so that it's single shot example is consistent with the other questions (4 names instead of 2 names)."
   ]
  },
  {
   "cell_type": "code",
   "execution_count": 1,
   "id": "161ffdc9",
   "metadata": {
    "execution": {
     "iopub.execute_input": "2024-11-19T23:39:28.852933Z",
     "iopub.status.busy": "2024-11-19T23:39:28.852838Z",
     "iopub.status.idle": "2024-11-19T23:39:35.007676Z",
     "shell.execute_reply": "2024-11-19T23:39:35.007343Z",
     "shell.execute_reply.started": "2024-11-19T23:39:28.852922Z"
    }
   },
   "outputs": [
    {
     "name": "stdout",
     "output_type": "stream",
     "text": [
      "DatasetDict({\n",
      "    train: Dataset({\n",
      "        features: ['answer', 'question'],\n",
      "        num_rows: 350\n",
      "    })\n",
      "    test: Dataset({\n",
      "        features: ['answer', 'question'],\n",
      "        num_rows: 150\n",
      "    })\n",
      "})\n"
     ]
    }
   ],
   "source": [
    "TEMPLATE_NAME = \"lastletter-t3-f3\"\n",
    "N_SHOT = 1\n",
    "import json\n",
    "import outlines\n",
    "from outlines.samplers import greedy\n",
    "import torch\n",
    "from transformers import AutoTokenizer\n",
    "from textwrap import dedent\n",
    "from datasets import load_dataset\n",
    "import re\n",
    "from jinja2 import Environment, FileSystemLoader\n",
    "import yaml\n",
    "import numpy as np\n",
    "import matplotlib.pyplot as plt\n",
    "\n",
    "MODEL_NAME = \"meta-llama/Meta-Llama-3-8B-Instruct\"\n",
    "# Load the dataset from HuggingFace\n",
    "dataset = load_dataset(\"ChilleD/LastLetterConcat\")\n",
    "\n",
    "# You can inspect the dataset structure\n",
    "print(dataset)"
   ]
  },
  {
   "cell_type": "code",
   "execution_count": 2,
   "id": "0b31fff5-08a0-4808-be49-6d1dc068e033",
   "metadata": {
    "execution": {
     "iopub.execute_input": "2024-11-19T23:39:35.008360Z",
     "iopub.status.busy": "2024-11-19T23:39:35.008164Z",
     "iopub.status.idle": "2024-11-19T23:39:35.011654Z",
     "shell.execute_reply": "2024-11-19T23:39:35.011410Z",
     "shell.execute_reply.started": "2024-11-19T23:39:35.008348Z"
    }
   },
   "outputs": [],
   "source": [
    "class BaseTextPrompter():\n",
    "    def __init__(self, config_filename, num_shots=8) -> None:\n",
    "        self.num_shots = num_shots\n",
    "        # move this template locally before sharing code so it's easier to get.\n",
    "        file_loader = FileSystemLoader('./templates')\n",
    "        env = Environment(loader=file_loader)\n",
    "        self.template = env.get_template('base.txt')\n",
    "        with open(config_filename, 'r') as file:\n",
    "            self.config = yaml.safe_load(file)\n",
    "        self.fewshots = self.config['fewshots']\n",
    "        self.task_specification = self.config['task_specification']\n",
    "        self.format_instruct = self.config['format_instruct']['text']\n",
    "\n",
    "    def prompt(self, question):\n",
    "        if self.num_shots == 0:\n",
    "            fewshot_text = ''\n",
    "        else:\n",
    "            fewshot_text = 'Here are some examples:\\n'\n",
    "            for example in self.fewshots[:self.num_shots]:\n",
    "                fewshot_text += \"Question: {}\\nAnswer: {}. The answer is {}.\\n\".format(\n",
    "                    example['question'], example['response']['reason'], example['response']['answer']\n",
    "                )\n",
    "\n",
    "        data = {\n",
    "            'task_specification': self.task_specification,\n",
    "            'fewshot_text': fewshot_text.strip(),\n",
    "            'format_instruct': self.format_instruct,\n",
    "            'question': 'Question: '+question+'\\n'\n",
    "        }\n",
    "\n",
    "        return self.template.render(data)\n",
    "\n",
    "class TextPrompter(BaseTextPrompter):\n",
    "    def __init__(self, num_shots=8, template_src=f'./templates/{TEMPLATE_NAME}.yaml') -> None:\n",
    "        super().__init__(template_src, num_shots)"
   ]
  },
  {
   "cell_type": "code",
   "execution_count": 3,
   "id": "9998a2f7-44a0-4104-bd94-6aef19cdfd12",
   "metadata": {
    "execution": {
     "iopub.execute_input": "2024-11-19T23:39:35.012107Z",
     "iopub.status.busy": "2024-11-19T23:39:35.012024Z",
     "iopub.status.idle": "2024-11-19T23:39:35.018353Z",
     "shell.execute_reply": "2024-11-19T23:39:35.018137Z",
     "shell.execute_reply.started": "2024-11-19T23:39:35.012099Z"
    }
   },
   "outputs": [],
   "source": [
    "prompter = TextPrompter(num_shots=N_SHOT)"
   ]
  },
  {
   "cell_type": "code",
   "execution_count": 4,
   "id": "7705b849",
   "metadata": {
    "execution": {
     "iopub.execute_input": "2024-11-19T23:39:35.018837Z",
     "iopub.status.busy": "2024-11-19T23:39:35.018725Z",
     "iopub.status.idle": "2024-11-19T23:39:35.022647Z",
     "shell.execute_reply": "2024-11-19T23:39:35.022416Z",
     "shell.execute_reply.started": "2024-11-19T23:39:35.018826Z"
    }
   },
   "outputs": [
    {
     "name": "stdout",
     "output_type": "stream",
     "text": [
      "Total examples: 150\n",
      "Sample entry: {'question': 'Take the last letters of each words in \"Camilo Becky Eliza Rebecca\" and concatenate them.', 'answer': 'oyaa'}\n"
     ]
    }
   ],
   "source": [
    "all_evals = []\n",
    "\n",
    "# Uncomment to include all data in evals\n",
    "# for item in dataset['train']:\n",
    "#     all_evals.append({\n",
    "#         'question': item['question'],\n",
    "#         'answer': item['answer']\n",
    "#     })\n",
    "\n",
    "# Add test examples\n",
    "for item in dataset['test']:\n",
    "    all_evals.append({\n",
    "        'question': item['question'],\n",
    "        'answer': item['answer']\n",
    "    })\n",
    "\n",
    "print(f\"Total examples: {len(all_evals)}\")\n",
    "print(\"Sample entry:\", all_evals[0])"
   ]
  },
  {
   "cell_type": "code",
   "execution_count": 5,
   "id": "14615e23-ad21-40c6-8c74-33de4cec53fa",
   "metadata": {
    "execution": {
     "iopub.execute_input": "2024-11-19T23:39:35.023138Z",
     "iopub.status.busy": "2024-11-19T23:39:35.023049Z",
     "iopub.status.idle": "2024-11-19T23:39:35.027632Z",
     "shell.execute_reply": "2024-11-19T23:39:35.027295Z",
     "shell.execute_reply.started": "2024-11-19T23:39:35.023129Z"
    }
   },
   "outputs": [
    {
     "data": {
      "text/plain": [
       "'Take the last letters of each words in \"Britt Tamara Elvis Nayeli\" and concatenate them.'"
      ]
     },
     "execution_count": 5,
     "metadata": {},
     "output_type": "execute_result"
    }
   ],
   "source": [
    "all_evals[5]['question']"
   ]
  },
  {
   "cell_type": "markdown",
   "id": "b96a8c8b-cdd3-4bb3-8b4c-34728ef1031d",
   "metadata": {},
   "source": [
    "Loading the model and tokenizer."
   ]
  },
  {
   "cell_type": "code",
   "execution_count": 6,
   "id": "df7aad6d-8ee7-4562-ae73-7a1b03409818",
   "metadata": {
    "execution": {
     "iopub.execute_input": "2024-11-19T23:39:35.029743Z",
     "iopub.status.busy": "2024-11-19T23:39:35.029613Z",
     "iopub.status.idle": "2024-11-19T23:39:40.077884Z",
     "shell.execute_reply": "2024-11-19T23:39:40.077544Z",
     "shell.execute_reply.started": "2024-11-19T23:39:35.029734Z"
    }
   },
   "outputs": [
    {
     "data": {
      "application/vnd.jupyter.widget-view+json": {
       "model_id": "6b2153399bb04476b195266923cc1bdd",
       "version_major": 2,
       "version_minor": 0
      },
      "text/plain": [
       "Loading checkpoint shards:   0%|          | 0/4 [00:00<?, ?it/s]"
      ]
     },
     "metadata": {},
     "output_type": "display_data"
    }
   ],
   "source": [
    "model = outlines.models.transformers(\n",
    "    MODEL_NAME,\n",
    "    device='mps',\n",
    "    model_kwargs={\n",
    "        'torch_dtype': torch.bfloat16,\n",
    "        'trust_remote_code': True\n",
    "    })\n",
    "\n",
    "tokenizer = AutoTokenizer.from_pretrained(MODEL_NAME)"
   ]
  },
  {
   "cell_type": "code",
   "execution_count": 7,
   "id": "9d450766-3a47-41fe-9c19-29d8f5b57897",
   "metadata": {
    "execution": {
     "iopub.execute_input": "2024-11-19T23:39:40.078752Z",
     "iopub.status.busy": "2024-11-19T23:39:40.078494Z",
     "iopub.status.idle": "2024-11-19T23:39:40.080501Z",
     "shell.execute_reply": "2024-11-19T23:39:40.080205Z",
     "shell.execute_reply.started": "2024-11-19T23:39:40.078740Z"
    }
   },
   "outputs": [],
   "source": [
    "# Can adjust this so that not all evals need to be run\n",
    "LAST = len(all_evals)"
   ]
  },
  {
   "cell_type": "markdown",
   "id": "43988572-d16a-423e-9bb9-383d2240fb7b",
   "metadata": {},
   "source": [
    "Various regexes for parsing the results."
   ]
  },
  {
   "cell_type": "code",
   "execution_count": 8,
   "id": "c5632b76-099a-4519-ba48-c37141d3bf85",
   "metadata": {
    "execution": {
     "iopub.execute_input": "2024-11-19T23:39:40.081037Z",
     "iopub.status.busy": "2024-11-19T23:39:40.080915Z",
     "iopub.status.idle": "2024-11-19T23:39:40.083878Z",
     "shell.execute_reply": "2024-11-19T23:39:40.083662Z",
     "shell.execute_reply.started": "2024-11-19T23:39:40.081028Z"
    }
   },
   "outputs": [
    {
     "data": {
      "text/plain": [
       "'(answer is ([A-Za-z]{4}))|(answer is ([A-Za-z]-[A-Za-z]-[A-Za-z]-[A-Za-z]))|(answer is:? \"?([A-Za-z] ?[A-Za-z] ?[A-Za-z] ?[A-Za-z])\"?)|(Concatenating them is \"([A-Za-z]{4})\")|(answer is:? ([A-Za-z]\\'?[A-Za-z]\\'?[A-Za-z]\\'?[A-Za-z]))'"
      ]
     },
     "execution_count": 8,
     "metadata": {},
     "output_type": "execute_result"
    }
   ],
   "source": [
    "# base regex\n",
    "answer_regex = r'answer is ([A-Za-z]{4})'\n",
    "\n",
    "alt_regex_1 = r'answer is ([A-Za-z]-[A-Za-z]-[A-Za-z]-[A-Za-z])'\n",
    "alt_regex_2 = r'answer is:? \"?([A-Za-z] ?[A-Za-z] ?[A-Za-z] ?[A-Za-z])\"?'\n",
    "alt_regex_3 = r'Concatenating them is \"([A-Za-z]{4})\"'\n",
    "alt_regex_4 = r\"answer is:? ([A-Za-z]'?[A-Za-z]'?[A-Za-z]'?[A-Za-z])\"\n",
    "\n",
    "# The answer is \"rH EY\"\n",
    "# The answer is aao'y\n",
    "\n",
    "all_regexes = {\n",
    "    answer_regex: lambda x: x.lower(),\n",
    "    alt_regex_1: lambda x: re.sub('-','',x).lower(),\n",
    "    alt_regex_2: lambda x: re.sub(' ','',x).lower(),\n",
    "    alt_regex_3: lambda x: x.lower(),\n",
    "    alt_regex_4: lambda x: re.sub(\"'\",\"\",x).lower()\n",
    "}\n",
    "full_regex = \"(\"+(\")|(\".join(all_regexes))+\")\"\n",
    "full_regex"
   ]
  },
  {
   "cell_type": "code",
   "execution_count": 9,
   "id": "ec676eab-9703-4bba-a15b-338021e4ee95",
   "metadata": {
    "execution": {
     "iopub.execute_input": "2024-11-19T23:39:40.084366Z",
     "iopub.status.busy": "2024-11-19T23:39:40.084268Z",
     "iopub.status.idle": "2024-11-19T23:39:40.086517Z",
     "shell.execute_reply": "2024-11-19T23:39:40.086162Z",
     "shell.execute_reply.started": "2024-11-19T23:39:40.084357Z"
    }
   },
   "outputs": [
    {
     "data": {
      "text/plain": [
       "{'answer is ([A-Za-z]{4})': <function __main__.<lambda>(x)>,\n",
       " 'answer is ([A-Za-z]-[A-Za-z]-[A-Za-z]-[A-Za-z])': <function __main__.<lambda>(x)>,\n",
       " 'answer is:? \"?([A-Za-z] ?[A-Za-z] ?[A-Za-z] ?[A-Za-z])\"?': <function __main__.<lambda>(x)>,\n",
       " 'Concatenating them is \"([A-Za-z]{4})\"': <function __main__.<lambda>(x)>,\n",
       " \"answer is:? ([A-Za-z]'?[A-Za-z]'?[A-Za-z]'?[A-Za-z])\": <function __main__.<lambda>(x)>}"
      ]
     },
     "execution_count": 9,
     "metadata": {},
     "output_type": "execute_result"
    }
   ],
   "source": [
    "all_regexes"
   ]
  },
  {
   "cell_type": "code",
   "execution_count": 10,
   "id": "269aeb06-3380-4720-9422-dfdfd191370c",
   "metadata": {
    "execution": {
     "iopub.execute_input": "2024-11-19T23:39:40.087346Z",
     "iopub.status.busy": "2024-11-19T23:39:40.087093Z",
     "iopub.status.idle": "2024-11-19T23:39:40.089669Z",
     "shell.execute_reply": "2024-11-19T23:39:40.089235Z",
     "shell.execute_reply.started": "2024-11-19T23:39:40.087335Z"
    }
   },
   "outputs": [],
   "source": [
    "def parse_response(resp, regex_to_use=full_regex):\n",
    "    top_result = re.search(regex_to_use,resp)\n",
    "    parsed_answer = \"\"\n",
    "    if not top_result:\n",
    "        return parsed_answer\n",
    "    for k, processor in all_regexes.items():\n",
    "        local_result = re.search(k, top_result[0])\n",
    "        if local_result:\n",
    "            parsed_answer = processor(local_result[1].lower())\n",
    "            break\n",
    "    return parsed_answer\n"
   ]
  },
  {
   "cell_type": "code",
   "execution_count": 11,
   "id": "2668b653-f434-4bf4-bd2e-a38d24c96403",
   "metadata": {
    "execution": {
     "iopub.execute_input": "2024-11-19T23:39:40.090338Z",
     "iopub.status.busy": "2024-11-19T23:39:40.090218Z",
     "iopub.status.idle": "2024-11-19T23:39:40.093272Z",
     "shell.execute_reply": "2024-11-19T23:39:40.092983Z",
     "shell.execute_reply.started": "2024-11-19T23:39:40.090328Z"
    }
   },
   "outputs": [
    {
     "data": {
      "text/plain": [
       "'ytaa'"
      ]
     },
     "execution_count": 11,
     "metadata": {},
     "output_type": "execute_result"
    }
   ],
   "source": [
    "parse_response('Concatenating them is \"ytaa\"')"
   ]
  },
  {
   "cell_type": "code",
   "execution_count": 12,
   "id": "76ad5d20-15fe-4f37-9ba9-17216300b46d",
   "metadata": {
    "execution": {
     "iopub.execute_input": "2024-11-19T23:39:40.093791Z",
     "iopub.status.busy": "2024-11-19T23:39:40.093672Z",
     "iopub.status.idle": "2024-11-19T23:39:40.095662Z",
     "shell.execute_reply": "2024-11-19T23:39:40.095385Z",
     "shell.execute_reply.started": "2024-11-19T23:39:40.093770Z"
    }
   },
   "outputs": [],
   "source": [
    "answers = [ex_eval['answer'] for ex_eval in all_evals[0:LAST]]"
   ]
  },
  {
   "cell_type": "markdown",
   "id": "f38cd823-ffa2-4458-8c91-0a7c4c20842d",
   "metadata": {},
   "source": [
    "## Exploring Existing Experiment Data"
   ]
  },
  {
   "cell_type": "code",
   "execution_count": 13,
   "id": "96d5ac53-6e41-435d-b7d4-ab8a7149ec90",
   "metadata": {
    "execution": {
     "iopub.execute_input": "2024-11-19T23:39:40.096209Z",
     "iopub.status.busy": "2024-11-19T23:39:40.096101Z",
     "iopub.status.idle": "2024-11-19T23:39:40.105493Z",
     "shell.execute_reply": "2024-11-19T23:39:40.105254Z",
     "shell.execute_reply.started": "2024-11-19T23:39:40.096200Z"
    }
   },
   "outputs": [],
   "source": [
    "with open(f\"./data/text_llama-3-8b-instruct_shots_{N_SHOT}.jsonl\", 'r') as f:\n",
    "    recorded_data = [json.loads(raw_obj) for raw_obj in f.readlines()]"
   ]
  },
  {
   "cell_type": "code",
   "execution_count": 14,
   "id": "dad48c77-c91f-4dac-bada-2e6664aee526",
   "metadata": {
    "execution": {
     "iopub.execute_input": "2024-11-19T23:39:40.105946Z",
     "iopub.status.busy": "2024-11-19T23:39:40.105837Z",
     "iopub.status.idle": "2024-11-19T23:39:40.107733Z",
     "shell.execute_reply": "2024-11-19T23:39:40.107496Z",
     "shell.execute_reply.started": "2024-11-19T23:39:40.105934Z"
    }
   },
   "outputs": [
    {
     "name": "stdout",
     "output_type": "stream",
     "text": [
      "Follow the instruction to complete the task:\n",
      "String manipulation task:\n",
      "• Given: A sequence of words\n",
      "• Required: A new string made from the last letter of each word\n",
      "• Process: Think step by step to solve this challenge\n",
      "Note: Ensure you've read the question thoroughly before beginning.\n",
      "\n",
      "\n",
      "Instruct : Provide your output in the following text format:\n",
      "Answer: <think step by step>. The final answer is <answer>\n",
      "\n",
      "\n",
      "Here are some examples:\n",
      "Question: Take the last letters of the words in \"Elon Musk\" and concatenate them.\n",
      "Answer: The last letter of \"Elon\" is \"n\". The last letter of \"Musk\" is \"k\". Concatenating them is \"nk\".. The answer is nk.\n",
      "Question: Take the last letters of each words in \"Britt Tamara Elvis Nayeli\" and concatenate them.\n"
     ]
    }
   ],
   "source": [
    "print(recorded_data[5]['llm_info']['input'])"
   ]
  },
  {
   "cell_type": "code",
   "execution_count": 15,
   "id": "22d9ade8-aa96-43ba-b29b-cfb9aa1a5ebf",
   "metadata": {
    "execution": {
     "iopub.execute_input": "2024-11-19T23:39:40.108212Z",
     "iopub.status.busy": "2024-11-19T23:39:40.108124Z",
     "iopub.status.idle": "2024-11-19T23:39:40.110711Z",
     "shell.execute_reply": "2024-11-19T23:39:40.110401Z",
     "shell.execute_reply.started": "2024-11-19T23:39:40.108202Z"
    }
   },
   "outputs": [
    {
     "data": {
      "text/plain": [
       "'paia'"
      ]
     },
     "execution_count": 15,
     "metadata": {},
     "output_type": "execute_result"
    }
   ],
   "source": [
    "recorded_data[1]['parsed_result']"
   ]
  },
  {
   "cell_type": "markdown",
   "id": "5b1a6b32-7ba8-4c2e-b7ea-c5f3ac208542",
   "metadata": {},
   "source": [
    "## What Is that AI Parser doing?\n",
    "\n",
    "### Looking at cases where the strict parser fails"
   ]
  },
  {
   "cell_type": "code",
   "execution_count": 16,
   "id": "9df78869-2958-4576-a2c4-052eebd477c6",
   "metadata": {
    "execution": {
     "iopub.execute_input": "2024-11-19T23:39:40.111148Z",
     "iopub.status.busy": "2024-11-19T23:39:40.111058Z",
     "iopub.status.idle": "2024-11-19T23:39:40.116641Z",
     "shell.execute_reply": "2024-11-19T23:39:40.116349Z",
     "shell.execute_reply.started": "2024-11-19T23:39:40.111140Z"
    }
   },
   "outputs": [],
   "source": [
    "# What do their parse errors look like according to my parser\n",
    "recorded_response = [result['response'] for result in recorded_data]\n",
    "recorded_parsed_full = [parse_response(resp) for resp in recorded_response]\n",
    "recorded_parsed_strict = [parse_response(resp,regex_to_use=answer_regex) for resp in recorded_response]\n"
   ]
  },
  {
   "cell_type": "code",
   "execution_count": 17,
   "id": "5091ffdf-70c4-44b7-bb7d-c872698f9926",
   "metadata": {
    "execution": {
     "iopub.execute_input": "2024-11-19T23:39:40.117185Z",
     "iopub.status.busy": "2024-11-19T23:39:40.117051Z",
     "iopub.status.idle": "2024-11-19T23:39:40.119315Z",
     "shell.execute_reply": "2024-11-19T23:39:40.118946Z",
     "shell.execute_reply.started": "2024-11-19T23:39:40.117170Z"
    }
   },
   "outputs": [
    {
     "name": "stdout",
     "output_type": "stream",
     "text": [
      "0.5733333333333334\n"
     ]
    }
   ],
   "source": [
    "data_acc = np.mean([result['correct'] for result in recorded_data])\n",
    "print(data_acc)"
   ]
  },
  {
   "cell_type": "code",
   "execution_count": 18,
   "id": "16f0f74a-b166-46e6-9a7d-28d735cec21f",
   "metadata": {
    "execution": {
     "iopub.execute_input": "2024-11-19T23:39:40.119829Z",
     "iopub.status.busy": "2024-11-19T23:39:40.119746Z",
     "iopub.status.idle": "2024-11-19T23:39:40.121921Z",
     "shell.execute_reply": "2024-11-19T23:39:40.121556Z",
     "shell.execute_reply.started": "2024-11-19T23:39:40.119821Z"
    }
   },
   "outputs": [
    {
     "name": "stdout",
     "output_type": "stream",
     "text": [
      "0.35333333333333333\n"
     ]
    }
   ],
   "source": [
    "recorded_parsed_acc_strict = np.mean([result[0] == result[1] for result in zip(recorded_parsed_strict, answers)])\n",
    "print(recorded_parsed_acc_strict)"
   ]
  },
  {
   "cell_type": "code",
   "execution_count": 19,
   "id": "70b32207-01e3-4123-8eb7-4106c9831da8",
   "metadata": {
    "execution": {
     "iopub.execute_input": "2024-11-19T23:39:40.122503Z",
     "iopub.status.busy": "2024-11-19T23:39:40.122385Z",
     "iopub.status.idle": "2024-11-19T23:39:40.124327Z",
     "shell.execute_reply": "2024-11-19T23:39:40.124064Z",
     "shell.execute_reply.started": "2024-11-19T23:39:40.122492Z"
    }
   },
   "outputs": [
    {
     "name": "stdout",
     "output_type": "stream",
     "text": [
      "0.6066666666666667\n"
     ]
    }
   ],
   "source": [
    "recorded_parsed_acc_full = np.mean([result[0] == result[1] for result in zip(recorded_parsed_full, answers)])\n",
    "print(recorded_parsed_acc_full)"
   ]
  },
  {
   "cell_type": "code",
   "execution_count": 20,
   "id": "1df0896a-10e7-45ff-8188-f86a98caf9d4",
   "metadata": {
    "execution": {
     "iopub.execute_input": "2024-11-19T23:39:40.124904Z",
     "iopub.status.busy": "2024-11-19T23:39:40.124720Z",
     "iopub.status.idle": "2024-11-19T23:39:40.221826Z",
     "shell.execute_reply": "2024-11-19T23:39:40.220522Z",
     "shell.execute_reply.started": "2024-11-19T23:39:40.124890Z"
    }
   },
   "outputs": [
    {
     "data": {
      "text/plain": [
       "Text(0.5, 1.0, 'Comparing Strict Regex to the AI Parser')"
      ]
     },
     "execution_count": 20,
     "metadata": {},
     "output_type": "execute_result"
    },
    {
     "data": {
      "image/png": "[encoded data removed]",
      "text/plain": [
       "<Figure size 1000x800 with 1 Axes>"
      ]
     },
     "metadata": {},
     "output_type": "display_data"
    }
   ],
   "source": [
    "fig, ax = plt.subplots(1, figsize=(10,8), facecolor='white')\n",
    "ax.bar(\"strict regex\", recorded_parsed_acc_strict, label='Strict regex')\n",
    "ax.bar(\"AI parser\", data_acc, label=\"AI parser\")\n",
    "ax.set_title(\"Comparing Strict Regex to the AI Parser\")"
   ]
  },
  {
   "cell_type": "code",
   "execution_count": 21,
   "id": "9734f1e1-d268-4ccf-9c36-1010530b7a26",
   "metadata": {
    "execution": {
     "iopub.execute_input": "2024-11-19T23:39:40.285088Z",
     "iopub.status.busy": "2024-11-19T23:39:40.284901Z",
     "iopub.status.idle": "2024-11-19T23:39:40.403895Z",
     "shell.execute_reply": "2024-11-19T23:39:40.394609Z",
     "shell.execute_reply.started": "2024-11-19T23:39:40.285078Z"
    }
   },
   "outputs": [
    {
     "data": {
      "text/plain": [
       "Text(0.5, 1.0, 'Comparing Strict Regex, Flexible Regex and AI Parser')"
      ]
     },
     "execution_count": 21,
     "metadata": {},
     "output_type": "execute_result"
    },
    {
     "data": {
      "image/png": "[encoded data removed]",
      "text/plain": [
       "<Figure size 1000x800 with 1 Axes>"
      ]
     },
     "metadata": {},
     "output_type": "display_data"
    }
   ],
   "source": [
    "fig, ax = plt.subplots(1, figsize=(10,8), facecolor='white')\n",
    "ax.bar(\"strict regex\", recorded_parsed_acc_strict, label='Strict regex')\n",
    "ax.bar(\"AI parser\", data_acc, label=\"AI parser\")\n",
    "ax.bar(\"flexible regex\", recorded_parsed_acc_full, label=\"Flexible regex\")\n",
    "ax.set_title(\"Comparing Strict Regex, Flexible Regex and AI Parser\")"
   ]
  },
  {
   "cell_type": "markdown",
   "id": "43f1868e-b6a8-4e4b-a65d-53ba75c60cb5",
   "metadata": {},
   "source": [
    "Okay that's odd haha! Our manual parser beats the AI parser!"
   ]
  },
  {
   "cell_type": "code",
   "execution_count": 22,
   "id": "3b911ca6-498b-4ad8-9e2b-d30b8043a6c9",
   "metadata": {
    "execution": {
     "iopub.execute_input": "2024-11-19T23:39:40.407152Z",
     "iopub.status.busy": "2024-11-19T23:39:40.407032Z",
     "iopub.status.idle": "2024-11-19T23:39:40.409970Z",
     "shell.execute_reply": "2024-11-19T23:39:40.409703Z",
     "shell.execute_reply.started": "2024-11-19T23:39:40.407143Z"
    }
   },
   "outputs": [],
   "source": [
    "parse_error = [i for i,result in enumerate(recorded_parsed_strict) if result == '']"
   ]
  },
  {
   "cell_type": "code",
   "execution_count": 23,
   "id": "d683676b-a33c-4bcf-81d3-e29395201df6",
   "metadata": {
    "execution": {
     "iopub.execute_input": "2024-11-19T23:39:40.410501Z",
     "iopub.status.busy": "2024-11-19T23:39:40.410411Z",
     "iopub.status.idle": "2024-11-19T23:39:40.413082Z",
     "shell.execute_reply": "2024-11-19T23:39:40.412875Z",
     "shell.execute_reply.started": "2024-11-19T23:39:40.410493Z"
    }
   },
   "outputs": [
    {
     "data": {
      "text/plain": [
       "[]"
      ]
     },
     "execution_count": 23,
     "metadata": {},
     "output_type": "execute_result"
    }
   ],
   "source": [
    "they_claim_correct = set([i for i, result in enumerate(recorded_data) if result['correct']])\n",
    "we_claim_correct = set([i for i, result in enumerate(recorded_parsed_strict) if result])\n",
    "no_error_they_claim = they_claim_correct.difference(set(parse_error))\n",
    "no_error_we_claim = we_claim_correct.difference(set(parse_error))\n",
    "list(no_error_they_claim.difference(no_error_we_claim))"
   ]
  },
  {
   "cell_type": "code",
   "execution_count": 24,
   "id": "4df2d31c-d5dd-4901-bc4d-d57875c86fbf",
   "metadata": {
    "execution": {
     "iopub.execute_input": "2024-11-19T23:39:40.413565Z",
     "iopub.status.busy": "2024-11-19T23:39:40.413468Z",
     "iopub.status.idle": "2024-11-19T23:39:40.416260Z",
     "shell.execute_reply": "2024-11-19T23:39:40.416029Z",
     "shell.execute_reply.started": "2024-11-19T23:39:40.413556Z"
    }
   },
   "outputs": [
    {
     "data": {
      "text/plain": [
       "set()"
      ]
     },
     "execution_count": 24,
     "metadata": {},
     "output_type": "execute_result"
    }
   ],
   "source": [
    "# more concise\n",
    "(they_claim_correct.difference(we_claim_correct)).difference(parse_error)"
   ]
  },
  {
   "cell_type": "markdown",
   "id": "20e6caab-1107-41a2-bac4-d2377dc1c206",
   "metadata": {},
   "source": [
    "## Parse error notes\n",
    "\n",
    "This bit of code is for manually inspecting the cases where there are errors in parsing."
   ]
  },
  {
   "cell_type": "code",
   "execution_count": 25,
   "id": "f6c1ebdb-3b95-4de7-8dd3-2c107437233e",
   "metadata": {
    "execution": {
     "iopub.execute_input": "2024-11-19T23:39:40.416835Z",
     "iopub.status.busy": "2024-11-19T23:39:40.416684Z",
     "iopub.status.idle": "2024-11-19T23:39:40.419850Z",
     "shell.execute_reply": "2024-11-19T23:39:40.419430Z",
     "shell.execute_reply.started": "2024-11-19T23:39:40.416817Z"
    }
   },
   "outputs": [
    {
     "name": "stdout",
     "output_type": "stream",
     "text": [
      "set()\n",
      "{131, 38, 72, 48, 52, 88, 120, 61, 126}\n",
      "{3, 5, 134, 7, 9, 12, 140, 15, 18, 28, 40, 49, 54, 58, 66, 71, 75, 86, 92, 96, 99, 103, 118, 122}\n",
      "{99, 71, 9, 15, 145, 30}\n",
      "{96, 58, 5, 134, 103, 75, 49, 86, 122, 28}\n"
     ]
    }
   ],
   "source": [
    "for each in [[i for i,resp in enumerate(recorded_response) if re.search(regex, resp)] for regex in all_regexes]:\n",
    "    print((set(each).intersection(parse_error)).intersection(they_claim_correct))"
   ]
  },
  {
   "cell_type": "code",
   "execution_count": 26,
   "id": "77c5d870-cb46-4684-8ffd-9dcd2cabf346",
   "metadata": {
    "execution": {
     "iopub.execute_input": "2024-11-19T23:39:40.420405Z",
     "iopub.status.busy": "2024-11-19T23:39:40.420280Z",
     "iopub.status.idle": "2024-11-19T23:39:40.422739Z",
     "shell.execute_reply": "2024-11-19T23:39:40.422512Z",
     "shell.execute_reply.started": "2024-11-19T23:39:40.420394Z"
    }
   },
   "outputs": [
    {
     "data": {
      "text/plain": [
       "36"
      ]
     },
     "execution_count": 26,
     "metadata": {},
     "output_type": "execute_result"
    }
   ],
   "source": [
    "to_fix = they_claim_correct.intersection(set(parse_error))\n",
    "len(to_fix)"
   ]
  },
  {
   "cell_type": "code",
   "execution_count": 27,
   "id": "c1716d00-79de-44e2-a32f-72c61c617fa4",
   "metadata": {
    "execution": {
     "iopub.execute_input": "2024-11-19T23:39:40.423237Z",
     "iopub.status.busy": "2024-11-19T23:39:40.423143Z",
     "iopub.status.idle": "2024-11-19T23:39:40.425381Z",
     "shell.execute_reply": "2024-11-19T23:39:40.425144Z",
     "shell.execute_reply.started": "2024-11-19T23:39:40.423227Z"
    }
   },
   "outputs": [
    {
     "name": "stdout",
     "output_type": "stream",
     "text": [
      "96\n",
      "Answer: yooi - Correct: True\n",
      "---THEM-----\n",
      "Here is the solution:\n",
      "\n",
      "Question: Take the last letters of each words in \"Denny Carlo Reinaldo Jessi\" and concatenate them.\n",
      "\n",
      "Answer: \n",
      "Step 1: Identify the last letter of each word:\n",
      "- The last letter of \"Denny\" is \"Y\".\n",
      "- The last letter of \"Carlo\" is \"O\".\n",
      "- The last letter of \"Reinaldo\" is \"O\".\n",
      "- The last letter of \"Jessi\" is \"I\".\n",
      "\n",
      "Step 2: Concatenate the last letters:\n",
      "Y-O-O-I\n",
      "\n",
      "The final answer is: YOOI\n"
     ]
    }
   ],
   "source": [
    "IDX = 96\n",
    "print(IDX)\n",
    "print(f\"Answer: {answers[IDX]} - Correct: {recorded_data[IDX]['parsed_result'] == answers[IDX]}\")\n",
    "print(\"---THEM-----\")\n",
    "print(recorded_data[IDX]['response'])"
   ]
  },
  {
   "cell_type": "markdown",
   "id": "e9b2ee96-c340-43da-b839-72817db5b283",
   "metadata": {},
   "source": [
    "## Unstructured Genration - Replication"
   ]
  },
  {
   "cell_type": "code",
   "execution_count": 28,
   "id": "b1367a64-1538-48b7-946d-57a979f75235",
   "metadata": {
    "execution": {
     "iopub.execute_input": "2024-11-19T23:39:40.425726Z",
     "iopub.status.busy": "2024-11-19T23:39:40.425645Z",
     "iopub.status.idle": "2024-11-19T23:39:40.427553Z",
     "shell.execute_reply": "2024-11-19T23:39:40.427319Z",
     "shell.execute_reply.started": "2024-11-19T23:39:40.425717Z"
    }
   },
   "outputs": [],
   "source": [
    "unstruct = outlines.generate.text(model, sampler=greedy())"
   ]
  },
  {
   "cell_type": "code",
   "execution_count": 29,
   "id": "0c32d2f0-5039-4e42-95e7-ff2e86496b06",
   "metadata": {
    "execution": {
     "iopub.execute_input": "2024-11-19T23:39:40.427959Z",
     "iopub.status.busy": "2024-11-19T23:39:40.427882Z",
     "iopub.status.idle": "2024-11-20T00:03:19.743530Z",
     "shell.execute_reply": "2024-11-20T00:03:19.743174Z",
     "shell.execute_reply.started": "2024-11-19T23:39:40.427951Z"
    }
   },
   "outputs": [
    {
     "name": "stderr",
     "output_type": "stream",
     "text": [
      "/Users/willkurt/miniconda3/envs/dottxt-ai/lib/python3.10/site-packages/transformers/generation/configuration_utils.py:590: UserWarning: `do_sample` is set to `False`. However, `temperature` is set to `0.0` -- this flag is only used in sample-based generation modes. You should set `do_sample=True` or unset `temperature`. This was detected when initializing the generation config instance, which means the corresponding file may hold incorrect parameterization and should be fixed.\n",
      "  warnings.warn(\n",
      "/Users/willkurt/miniconda3/envs/dottxt-ai/lib/python3.10/site-packages/transformers/generation/configuration_utils.py:590: UserWarning: `do_sample` is set to `False`. However, `temperature` is set to `0.0` -- this flag is only used in sample-based generation modes. You should set `do_sample=True` or unset `temperature`.\n",
      "  warnings.warn(\n"
     ]
    }
   ],
   "source": [
    "unstruct_resp = [unstruct(prompter.prompt(all_evals[i]['question']), max_tokens=128) for i in range(LAST)]"
   ]
  },
  {
   "cell_type": "code",
   "execution_count": 30,
   "id": "1078298f-9d84-4dbd-8a2a-db8bbc1ea1f9",
   "metadata": {
    "execution": {
     "iopub.execute_input": "2024-11-20T00:03:19.744084Z",
     "iopub.status.busy": "2024-11-20T00:03:19.743975Z",
     "iopub.status.idle": "2024-11-20T00:03:19.746455Z",
     "shell.execute_reply": "2024-11-20T00:03:19.746162Z",
     "shell.execute_reply.started": "2024-11-20T00:03:19.744074Z"
    }
   },
   "outputs": [
    {
     "data": {
      "text/plain": [
       "'Answer: The last letter of \"Sandeep\" is \"P\", the last letter of \"Graciela\" is \"A\", the last letter of \"Jai\" is \"I\", and the last letter of \"Xiomara\" is \"A\". The answer is PAIA.\\n\\nNow, it\\'s your turn! Please provide your answer for the given sequence of words. Remember to think step by step and provide your output in the required format.'"
      ]
     },
     "execution_count": 30,
     "metadata": {},
     "output_type": "execute_result"
    }
   ],
   "source": [
    "unstruct_resp[1]"
   ]
  },
  {
   "cell_type": "code",
   "execution_count": 31,
   "id": "6e9fcd64-fd05-4deb-a4e3-76f40a609d69",
   "metadata": {
    "execution": {
     "iopub.execute_input": "2024-11-20T00:03:19.746873Z",
     "iopub.status.busy": "2024-11-20T00:03:19.746792Z",
     "iopub.status.idle": "2024-11-20T00:03:19.750502Z",
     "shell.execute_reply": "2024-11-20T00:03:19.750262Z",
     "shell.execute_reply.started": "2024-11-20T00:03:19.746865Z"
    }
   },
   "outputs": [],
   "source": [
    "answer_strict = [parse_response(resp,regex_to_use=answer_regex) for resp in unstruct_resp]\n",
    "answer_flexible = [parse_response(resp) for resp in unstruct_resp]"
   ]
  },
  {
   "cell_type": "code",
   "execution_count": 32,
   "id": "9ce08675-8161-44c5-91f0-5216c7b7f39a",
   "metadata": {
    "execution": {
     "iopub.execute_input": "2024-11-20T00:03:19.750960Z",
     "iopub.status.busy": "2024-11-20T00:03:19.750871Z",
     "iopub.status.idle": "2024-11-20T00:03:19.753697Z",
     "shell.execute_reply": "2024-11-20T00:03:19.753345Z",
     "shell.execute_reply.started": "2024-11-20T00:03:19.750950Z"
    }
   },
   "outputs": [
    {
     "name": "stdout",
     "output_type": "stream",
     "text": [
      "0.64\n",
      "0.66\n"
     ]
    }
   ],
   "source": [
    "import numpy as np\n",
    "unstruct_acc_strict = np.mean([result[0] == result[1] for result in zip(answer_strict, answers)])\n",
    "print(unstruct_acc_strict)\n",
    "unstruct_acc_flexible = np.mean([result[0] == result[1] for result in zip(answer_flexible, answers)])\n",
    "print(unstruct_acc_flexible)"
   ]
  },
  {
   "cell_type": "markdown",
   "id": "c369d2bc-dbcb-4d76-93e0-972841ace03b",
   "metadata": {},
   "source": [
    "## Structured Generation"
   ]
  },
  {
   "cell_type": "code",
   "execution_count": 33,
   "id": "cab02f54-7360-4d9d-841a-178309e4469a",
   "metadata": {
    "execution": {
     "iopub.execute_input": "2024-11-20T00:03:19.754288Z",
     "iopub.status.busy": "2024-11-20T00:03:19.754180Z",
     "iopub.status.idle": "2024-11-20T00:03:19.756077Z",
     "shell.execute_reply": "2024-11-20T00:03:19.755812Z",
     "shell.execute_reply.started": "2024-11-20T00:03:19.754279Z"
    }
   },
   "outputs": [],
   "source": [
    "cot_regex = r'Answer: T[\\w \\\\\",\\\\.]{30,250}. The '"
   ]
  },
  {
   "cell_type": "code",
   "execution_count": 34,
   "id": "c9156ba5-0689-44a2-a2dc-a3b9e1e8c8f8",
   "metadata": {
    "execution": {
     "iopub.execute_input": "2024-11-20T00:03:19.756688Z",
     "iopub.status.busy": "2024-11-20T00:03:19.756523Z",
     "iopub.status.idle": "2024-11-20T00:03:19.758947Z",
     "shell.execute_reply": "2024-11-20T00:03:19.758685Z",
     "shell.execute_reply.started": "2024-11-20T00:03:19.756679Z"
    }
   },
   "outputs": [
    {
     "data": {
      "text/plain": [
       "'answer is ([A-Za-z]{4})'"
      ]
     },
     "execution_count": 34,
     "metadata": {},
     "output_type": "execute_result"
    }
   ],
   "source": [
    "answer_regex"
   ]
  },
  {
   "cell_type": "code",
   "execution_count": 36,
   "id": "7db8b13f-1868-4259-b055-e45b7b8823cd",
   "metadata": {
    "execution": {
     "iopub.execute_input": "2024-11-20T00:03:44.266172Z",
     "iopub.status.busy": "2024-11-20T00:03:44.265611Z",
     "iopub.status.idle": "2024-11-20T00:08:23.240703Z",
     "shell.execute_reply": "2024-11-20T00:08:23.240333Z",
     "shell.execute_reply.started": "2024-11-20T00:03:44.266136Z"
    }
   },
   "outputs": [],
   "source": [
    "struct_strict = outlines.generate.regex(\n",
    "    model,\n",
    "    cot_regex + answer_regex, \n",
    "    sampler=greedy())"
   ]
  },
  {
   "cell_type": "code",
   "execution_count": 37,
   "id": "1ef0c0db-931e-4edc-aa15-2be24159ebfe",
   "metadata": {
    "execution": {
     "iopub.execute_input": "2024-11-20T00:08:23.241578Z",
     "iopub.status.busy": "2024-11-20T00:08:23.241465Z",
     "iopub.status.idle": "2024-11-20T00:27:22.363414Z",
     "shell.execute_reply": "2024-11-20T00:27:22.363032Z",
     "shell.execute_reply.started": "2024-11-20T00:08:23.241568Z"
    }
   },
   "outputs": [],
   "source": [
    "struct_resp_strict = [struct_strict(prompter.prompt(all_evals[i]['question'])) for i in range(LAST)]"
   ]
  },
  {
   "cell_type": "code",
   "execution_count": 38,
   "id": "9079da86-ba86-4eb1-b9c1-ebb3fe9d41d9",
   "metadata": {
    "execution": {
     "iopub.execute_input": "2024-11-20T00:27:22.363867Z",
     "iopub.status.busy": "2024-11-20T00:27:22.363769Z",
     "iopub.status.idle": "2024-11-20T00:27:22.366905Z",
     "shell.execute_reply": "2024-11-20T00:27:22.366659Z",
     "shell.execute_reply.started": "2024-11-20T00:27:22.363856Z"
    }
   },
   "outputs": [
    {
     "data": {
      "text/plain": [
       "0.68"
      ]
     },
     "execution_count": 38,
     "metadata": {},
     "output_type": "execute_result"
    }
   ],
   "source": [
    "struct_answer_strict = [parse_response(resp,regex_to_use=answer_regex) for resp in struct_resp_strict]\n",
    "struct_acc_strict = np.mean([result[0] == result[1] for result in zip(struct_answer_strict, answers)])\n",
    "struct_acc_strict"
   ]
  }
 ],
 "metadata": {
  "kernelspec": {
   "display_name": "Python 3 (ipykernel)",
   "language": "python",
   "name": "python3"
  },
  "language_info": {
   "codemirror_mode": {
    "name": "ipython",
    "version": 3
   },
   "file_extension": ".py",
   "mimetype": "text/x-python",
   "name": "python",
   "nbconvert_exporter": "python",
   "pygments_lexer": "ipython3",
   "version": "3.10.0"
  }
 },
 "nbformat": 4,
 "nbformat_minor": 5
}
